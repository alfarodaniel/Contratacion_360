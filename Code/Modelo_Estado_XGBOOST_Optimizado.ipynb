{
 "cells": [
  {
   "cell_type": "code",
   "execution_count": 1,
   "id": "691aef81",
   "metadata": {},
   "outputs": [],
   "source": [
    "#import warnings\n",
    "warnings.filterwarnings('ignore')"
   ]
  },
  {
   "cell_type": "code",
   "execution_count": 2,
   "id": "869d5461",
   "metadata": {},
   "outputs": [
    {
     "name": "stdout",
     "output_type": "stream",
     "text": [
      "Requirement already satisfied: ipython-autotime in c:\\users\\usuario\\anaconda3\\envs\\miad\\lib\\site-packages (0.3.1)\n",
      "Requirement already satisfied: ipython in c:\\users\\usuario\\anaconda3\\envs\\miad\\lib\\site-packages (from ipython-autotime) (8.1.1)\n",
      "Requirement already satisfied: setuptools>=18.5 in c:\\users\\usuario\\anaconda3\\envs\\miad\\lib\\site-packages (from ipython->ipython-autotime) (58.0.4)\n",
      "Requirement already satisfied: traitlets>=5 in c:\\users\\usuario\\anaconda3\\envs\\miad\\lib\\site-packages (from ipython->ipython-autotime) (5.1.1)\n",
      "Requirement already satisfied: colorama in c:\\users\\usuario\\anaconda3\\envs\\miad\\lib\\site-packages (from ipython->ipython-autotime) (0.4.4)\n",
      "Requirement already satisfied: jedi>=0.16 in c:\\users\\usuario\\anaconda3\\envs\\miad\\lib\\site-packages (from ipython->ipython-autotime) (0.18.1)\n",
      "Requirement already satisfied: prompt-toolkit!=3.0.0,!=3.0.1,<3.1.0,>=2.0.0 in c:\\users\\usuario\\anaconda3\\envs\\miad\\lib\\site-packages (from ipython->ipython-autotime) (3.0.20)\n",
      "Requirement already satisfied: backcall in c:\\users\\usuario\\anaconda3\\envs\\miad\\lib\\site-packages (from ipython->ipython-autotime) (0.2.0)\n",
      "Requirement already satisfied: decorator in c:\\users\\usuario\\anaconda3\\envs\\miad\\lib\\site-packages (from ipython->ipython-autotime) (5.1.1)\n",
      "Requirement already satisfied: pygments>=2.4.0 in c:\\users\\usuario\\anaconda3\\envs\\miad\\lib\\site-packages (from ipython->ipython-autotime) (2.11.2)\n",
      "Requirement already satisfied: matplotlib-inline in c:\\users\\usuario\\anaconda3\\envs\\miad\\lib\\site-packages (from ipython->ipython-autotime) (0.1.3)\n",
      "Requirement already satisfied: stack-data in c:\\users\\usuario\\anaconda3\\envs\\miad\\lib\\site-packages (from ipython->ipython-autotime) (0.2.0)\n",
      "Requirement already satisfied: pickleshare in c:\\users\\usuario\\anaconda3\\envs\\miad\\lib\\site-packages (from ipython->ipython-autotime) (0.7.5)\n",
      "Requirement already satisfied: parso<0.9.0,>=0.8.0 in c:\\users\\usuario\\anaconda3\\envs\\miad\\lib\\site-packages (from jedi>=0.16->ipython->ipython-autotime) (0.8.3)\n",
      "Requirement already satisfied: wcwidth in c:\\users\\usuario\\anaconda3\\envs\\miad\\lib\\site-packages (from prompt-toolkit!=3.0.0,!=3.0.1,<3.1.0,>=2.0.0->ipython->ipython-autotime) (0.2.5)\n",
      "Requirement already satisfied: asttokens in c:\\users\\usuario\\anaconda3\\envs\\miad\\lib\\site-packages (from stack-data->ipython->ipython-autotime) (2.0.5)\n",
      "Requirement already satisfied: executing in c:\\users\\usuario\\anaconda3\\envs\\miad\\lib\\site-packages (from stack-data->ipython->ipython-autotime) (0.8.3)\n",
      "Requirement already satisfied: pure-eval in c:\\users\\usuario\\anaconda3\\envs\\miad\\lib\\site-packages (from stack-data->ipython->ipython-autotime) (0.2.2)\n",
      "Requirement already satisfied: six in c:\\users\\usuario\\anaconda3\\envs\\miad\\lib\\site-packages (from asttokens->stack-data->ipython->ipython-autotime) (1.16.0)\n",
      "Note: you may need to restart the kernel to use updated packages.\n"
     ]
    },
    {
     "name": "stderr",
     "output_type": "stream",
     "text": [
      "WARNING: Ignoring invalid distribution -rotobuf (c:\\users\\usuario\\anaconda3\\envs\\miad\\lib\\site-packages)\n",
      "WARNING: Ignoring invalid distribution -rotobuf (c:\\users\\usuario\\anaconda3\\envs\\miad\\lib\\site-packages)\n",
      "WARNING: Ignoring invalid distribution -rotobuf (c:\\users\\usuario\\anaconda3\\envs\\miad\\lib\\site-packages)\n",
      "WARNING: Ignoring invalid distribution -rotobuf (c:\\users\\usuario\\anaconda3\\envs\\miad\\lib\\site-packages)\n",
      "WARNING: Ignoring invalid distribution -rotobuf (c:\\users\\usuario\\anaconda3\\envs\\miad\\lib\\site-packages)\n",
      "WARNING: Ignoring invalid distribution -rotobuf (c:\\users\\usuario\\anaconda3\\envs\\miad\\lib\\site-packages)\n"
     ]
    }
   ],
   "source": [
    "#pip install ipython-autotime"
   ]
  },
  {
   "cell_type": "code",
   "execution_count": 3,
   "id": "641421b2",
   "metadata": {},
   "outputs": [
    {
     "name": "stdout",
     "output_type": "stream",
     "text": [
      "time: 0 ns (started: 2023-05-06 17:17:32 -05:00)\n"
     ]
    }
   ],
   "source": [
    "#%load_ext autotime"
   ]
  },
  {
   "cell_type": "code",
   "execution_count": 4,
   "id": "35f0e662",
   "metadata": {},
   "outputs": [
    {
     "name": "stdout",
     "output_type": "stream",
     "text": [
      "Collecting package metadata (current_repodata.json): ...working... done\n",
      "Solving environment: ...working... done\n",
      "\n",
      "## Package Plan ##\n",
      "\n",
      "  environment location: C:\\Users\\Usuario\\anaconda3\\envs\\MIAD\n",
      "\n",
      "  added / updated specs:\n",
      "    - py-xgboost\n",
      "\n",
      "\n",
      "The following packages will be downloaded:\n",
      "\n",
      "    package                    |            build\n",
      "    ---------------------------|-----------------\n",
      "    ca-certificates-2023.01.10 |       haa95532_0         158 KB  anaconda\n",
      "    certifi-2022.12.7          |   py39haa95532_0         153 KB  anaconda\n",
      "    ------------------------------------------------------------\n",
      "                                           Total:         310 KB\n",
      "\n",
      "The following packages will be SUPERSEDED by a higher-priority channel:\n",
      "\n",
      "  ca-certificates                                 pkgs/main --> anaconda None\n",
      "  certifi                                         pkgs/main --> anaconda None\n",
      "  openssl              pkgs/main::openssl-1.1.1t-h2bbff1b_0 --> anaconda::openssl-1.1.1s-h2bbff1b_0 None\n",
      "\n",
      "\n",
      "\n",
      "Downloading and Extracting Packages\n",
      "\n",
      "certifi-2022.12.7    | 153 KB    |            |   0% \n",
      "certifi-2022.12.7    | 153 KB    | #          |  10% \n",
      "certifi-2022.12.7    | 153 KB    | ########3  |  84% \n",
      "certifi-2022.12.7    | 153 KB    | ########## | 100% \n",
      "\n",
      "ca-certificates-2023 | 158 KB    |            |   0% \n",
      "ca-certificates-2023 | 158 KB    | ##         |  20% \n",
      "ca-certificates-2023 | 158 KB    | ########## | 100% \n",
      "Preparing transaction: ...working... done\n",
      "Verifying transaction: ...working... done\n",
      "Executing transaction: ...working... done\n",
      "Retrieving notices: ...working... done\n",
      "\n",
      "Note: you may need to restart the kernel to use updated packages.\n",
      "time: 12.6 s (started: 2023-05-06 17:17:32 -05:00)\n"
     ]
    }
   ],
   "source": [
    "#conda install -c anaconda py-xgboost"
   ]
  },
  {
   "cell_type": "code",
   "execution_count": 77,
   "id": "b6e94c18",
   "metadata": {},
   "outputs": [
    {
     "name": "stdout",
     "output_type": "stream",
     "text": [
      "time: 0 ns (started: 2023-05-06 20:51:41 -05:00)\n"
     ]
    }
   ],
   "source": [
    "#conda install seaborn"
   ]
  },
  {
   "cell_type": "code",
   "execution_count": 78,
   "id": "dbae2cdc",
   "metadata": {},
   "outputs": [
    {
     "name": "stdout",
     "output_type": "stream",
     "text": [
      "time: 0 ns (started: 2023-05-06 20:51:41 -05:00)\n"
     ]
    }
   ],
   "source": [
    "# Importación librerías\n",
    "import pandas as pd\n",
    "import numpy as np\n",
    "import matplotlib.pyplot as plt\n",
    "import seaborn as sns\n",
    "\n",
    "from sklearn import preprocessing\n",
    "from sklearn.model_selection import train_test_split\n",
    "\n",
    "from sklearn.ensemble import RandomForestClassifier\n",
    "from sklearn.ensemble import BaggingClassifier\n",
    "from sklearn.tree import DecisionTreeClassifier\n",
    "import xgboost as xgboost\n",
    "from xgboost import XGBRegressor\n",
    "from sklearn.model_selection import GridSearchCV \n",
    "from sklearn.model_selection import cross_val_score\n",
    "import math\n",
    "\n",
    "#from sklearn import metrics\n",
    "from sklearn.metrics import confusion_matrix\n",
    "from sklearn.metrics import ConfusionMatrixDisplay\n",
    "from sklearn.metrics import classification_report\n",
    "from sklearn.metrics import roc_curve\n",
    "from sklearn.metrics import recall_score\n",
    "from sklearn.metrics import auc\n",
    "from sklearn.metrics import mean_squared_error\n",
    "\n",
    "import matplotlib.pyplot as plt\n",
    "import itertools\n",
    "\n",
    "from sklearn.tree import DecisionTreeClassifier\n",
    "from sklearn.ensemble import RandomForestClassifier\n",
    "from sklearn.ensemble import AdaBoostClassifier\n",
    "from sklearn.ensemble import GradientBoostingClassifier\n",
    "from xgboost import XGBClassifier\n",
    "\n",
    "from imblearn.under_sampling import NearMiss\n",
    "from imblearn.over_sampling import RandomOverSampler\n",
    "from imblearn.combine import SMOTETomek\n",
    "from imblearn.ensemble import BalancedBaggingClassifier\n",
    "\n",
    "from collections import Counter"
   ]
  },
  {
   "cell_type": "code",
   "execution_count": 79,
   "id": "c2685624",
   "metadata": {},
   "outputs": [
    {
     "data": {
      "text/plain": [
       "\"\\n# Codificar las columnas categoricas\\n#secop1['Nivel Entidad'] = pd.factorize(secop1['Nivel Entidad'])[0]\\nsecop1['Orden Entidad'] = pd.factorize(secop1['Orden Entidad'])[0] #5\\nsecop1['Modalidad de Contratacion'] = pd.factorize(secop1['Modalidad de Contratacion'])[0] #10\\nsecop1['Estado del Proceso'] = pd.factorize(secop1['Estado del Proceso'])[0] #11\\nsecop1['Municipio de Obtencion'] = pd.factorize(secop1['Municipio de Obtencion'])[0] #11\\nsecop1['Nombre Grupo'] = pd.factorize(secop1['Nombre Grupo'])[0] #28\\nsecop1['Tipo Identifi del Contratista'] = pd.factorize(secop1['Tipo Identifi del Contratista'])[0] #34\\nsecop1['Dpto y Muni Contratista'] = pd.factorize(secop1['Dpto y Muni Contratista'])[0] #37\\nsecop1['Rango de Ejec del Contrato'] = pd.factorize(secop1['Rango de Ejec del Contrato'])[0] #44\\n#secop1['Municipio Entidad'] = pd.factorize(secop1['Municipio Entidad'])[0]\\nsecop1['Departamento Entidad'] = pd.factorize(secop1['Departamento Entidad'])[0] #68\\n#secop1['Prorroga'] = pd.factorize(secop1['Prorroga'])[0]\\n#secop1['Adicion'] = pd.factorize(secop1['Adicion'])[0]\\n\""
      ]
     },
     "execution_count": 79,
     "metadata": {},
     "output_type": "execute_result"
    },
    {
     "name": "stdout",
     "output_type": "stream",
     "text": [
      "time: 4.58 s (started: 2023-05-06 20:51:41 -05:00)\n"
     ]
    }
   ],
   "source": [
    "# Carga de datos de archivos .csv\n",
    "url = 'SECOP I filtro.txt'\n",
    "secop1 = pd.read_csv(url, delimiter='|', dtype='str')\n",
    "\n",
    "# Selecciona las columnas seleccionadas en el preprocesamiento\n",
    "columnasSeleccionadas = ['UID', #1\n",
    "                         'Anno Cargue SECOP', #2\n",
    "                         'Anno Firma Contrato', #3\n",
    "                         'Nivel Entidad', #4\n",
    "                         'Orden Entidad', #5\n",
    "                         'Nombre Entidad', #6\n",
    "                         'NIT de la Entidad', #7\n",
    "                         'Código de la Entidad', #8\n",
    "                         'ID Modalidad', #9\n",
    "                         'Modalidad de Contratacion', #10\n",
    "                         'Estado del Proceso', #11\n",
    "                         'ID Objeto a Contratar', #15\n",
    "                         'Objeto a Contratar', #16\n",
    "                         'Detalle del Objeto a Contratar', #17\n",
    "                         'Municipio de Obtencion', #19\n",
    "                         'Municipio de Entrega', #20\n",
    "                         'Numero de Constancia', #23\n",
    "                         'Numero de Proceso', #24\n",
    "                         'Numero de Contrato', #25\n",
    "                         'Cuantia Proceso', #26\n",
    "                         'ID Grupo', #27\n",
    "                         'Nombre Grupo', #28\n",
    "                         'ID Familia', #29\n",
    "                         'Nombre Familia', #30\n",
    "                         'ID Clase', #31\n",
    "                         'Nombre Clase', #32\n",
    "                         'ID Adjudicacion', #33\n",
    "                         'Tipo Identifi del Contratista', #34\n",
    "                         'Identificacion del Contratista', #35\n",
    "                         'Nom Razon Social Contratista', #36\n",
    "                         'Dpto y Muni Contratista', #37\n",
    "                         'Identific Representante Legal', #39\n",
    "                         'Nombre del Represen Legal', #40\n",
    "                         'Fecha de Firma del Contrato', #41\n",
    "                         'Fecha Ini Ejec Contrato', #42\n",
    "                         'Plazo de Ejec del Contrato', #43\n",
    "                         'Rango de Ejec del Contrato', #44\n",
    "                         'Tiempo Adiciones en Dias', #45\n",
    "                         'Tiempo Adiciones en Meses', #46\n",
    "                         'Fecha Fin Ejec Contrato', #47\n",
    "                         'Cuantia Contrato', #49\n",
    "                         'Valor Total de Adiciones', #50\n",
    "                         'Valor Contrato con Adiciones', #51\n",
    "                         'Objeto del Contrato a la Firma', #52\n",
    "                         'Proponentes Seleccionados', #53\n",
    "                         'Calificacion Definitiva', #54\n",
    "                         'Es PostConflicto', #59\n",
    "                         'Municipio Entidad', #67\n",
    "                         'Departamento Entidad', #68\n",
    "                         'Ultima Actualizacion', #69\n",
    "                         'Fecha Liquidacion', #70\n",
    "                         'Cumple Decreto 248', #71\n",
    "                         'IncluyeBienesDecreto248' #72\n",
    "                         ]\n",
    "\n",
    "\n",
    "# Imputa valores NA\n",
    "secop1['Fecha Ini Ejec Contrato'] = secop1['Fecha Ini Ejec Contrato'].fillna(secop1['Fecha de Cargue en el SECOP'])\n",
    "#secop1['Cuantía Contrato'] = secop1['Cuantía Contrato'].fillna(secop1['Cuantía Proceso'])\n",
    "\n",
    "# Cambia el tipo de las columnas numericas\n",
    "columnasNumero = ['Cuantia Proceso', #26\n",
    "                  'Plazo de Ejec del Contrato', #43\n",
    "                  'Tiempo Adiciones en Dias', #45 ? sobra\n",
    "                  'Tiempo Adiciones en Meses', #46 ? sobra\n",
    "                  'Cuantia Contrato', #49\n",
    "                  'Valor Total de Adiciones', #50 ? sobra\n",
    "                  'Valor Contrato con Adiciones' #51 ? sobra\n",
    "                  ]\n",
    "secop1[columnasNumero] = secop1[columnasNumero].astype('int64')\n",
    "\n",
    "# Convierte a formato fecha\n",
    "#secop1['Ultima Actualizacion'] = pd.to_datetime(secop1['Ultima Actualizacion'], format='%d/%m/%Y')\n",
    "secop1['Fecha Ini Ejec Contrato'] = pd.to_datetime(secop1['Fecha Ini Ejec Contrato'], format='%d/%m/%Y')\n",
    "# Extrae año y mes\n",
    "secop1['Anno Ini Ejec Contrato'] = secop1['Fecha Ini Ejec Contrato'].dt.year\n",
    "secop1['Mes Ini Ejec Contrato'] = secop1['Fecha Ini Ejec Contrato'].dt.month\n",
    "\n",
    "# Convierte años de 0 a 4 segun su posicion en cuetrenios desde 2016\n",
    "secop1['Anno Ini Ejec Contrato'] = (secop1['Anno Ini Ejec Contrato']-2016)%4\n",
    "\n",
    "\n",
    "# Crea Prorroga y Adicion\n",
    "#secop1['Prorroga'] = secop1['Tiempo Adiciones en Dias'].apply(lambda x: 'Prorrogado' if x != 0 else 'No Prorrogado')\n",
    "secop1['Prorroga'] = secop1['Tiempo Adiciones en Dias'] + secop1['Tiempo Adiciones en Meses']\n",
    "secop1['Prorroga'] = secop1['Prorroga'].apply(lambda x: 1 if x != 0 else 0)\n",
    "#secop1['Adicion'] = secop1['Valor Total de Adiciones'].apply(lambda x: 'Adicionado' if x != 0 else 'No Adicionado')\n",
    "secop1['Adicion'] = secop1['Valor Total de Adiciones'].apply(lambda x: 1 if x != 0 else 0)\n",
    "\n",
    "\n",
    "# Selecciona las columnas seleccionadas en el feature engineering\n",
    "columnasSeleccionadas = ['Orden Entidad', #5\n",
    "                         'Modalidad de Contratacion', #10\n",
    "                         'Estado del Proceso', #11 adicional\n",
    "                         #'Nombre Regimen de Contratacion', #14 ? igual que modalidad\n",
    "                         'Objeto a Contratar', #16\n",
    "                         'Municipio de Obtencion', #19\n",
    "                         #'Anno de Cargue en el SECOP', #22 ?\n",
    "                         #'Mes de Cargue en el SECOP', #22 ?\n",
    "                         'Cuantia Proceso', #26\n",
    "                         'Nombre Grupo', #28\n",
    "                         'Tipo Identifi del Contratista', #34\n",
    "                         'Dpto y Muni Contratista', #37\n",
    "                         'Anno Ini Ejec Contrato', #42\n",
    "                         'Mes Ini Ejec Contrato', # 42\n",
    "                         'Plazo de Ejec del Contrato', #43\n",
    "                         'Rango de Ejec del Contrato', #44\n",
    "                         'Prorroga', #45 y 46\n",
    "                         'Tiempo Adiciones en Dias', #45 ? perdida de informacion\n",
    "                         'Tiempo Adiciones en Meses', #46 ? perdida de informacion\n",
    "                         'Cuantia Contrato', #49\n",
    "                         'Adicion', #50\n",
    "                         'Valor Total de Adiciones', #50 ? sobra\n",
    "                         'Valor Contrato con Adiciones', #51 ? sobra\n",
    "                         #'Proponentes Seleccionados', #53\n",
    "                         'Departamento Entidad' #68\n",
    "                         ]\n",
    "\n",
    "secop1 = secop1[columnasSeleccionadas]\n",
    "\n",
    "# filtra estados\n",
    "secop1 = secop1[secop1['Estado del Proceso'].isin(['Liquidado', 'Terminado sin Liquidar'])]\n",
    "\n",
    "# Crea estado\n",
    "secop1['Estado del Proceso'] = secop1['Estado del Proceso'].apply(lambda x: 1 if x != 'Liquidado' else 0)\n",
    "\n",
    "\"\"\"\n",
    "# Codificar las columnas categoricas\n",
    "#secop1['Nivel Entidad'] = pd.factorize(secop1['Nivel Entidad'])[0]\n",
    "secop1['Orden Entidad'] = pd.factorize(secop1['Orden Entidad'])[0] #5\n",
    "secop1['Modalidad de Contratacion'] = pd.factorize(secop1['Modalidad de Contratacion'])[0] #10\n",
    "secop1['Estado del Proceso'] = pd.factorize(secop1['Estado del Proceso'])[0] #11\n",
    "secop1['Municipio de Obtencion'] = pd.factorize(secop1['Municipio de Obtencion'])[0] #11\n",
    "secop1['Nombre Grupo'] = pd.factorize(secop1['Nombre Grupo'])[0] #28\n",
    "secop1['Tipo Identifi del Contratista'] = pd.factorize(secop1['Tipo Identifi del Contratista'])[0] #34\n",
    "secop1['Dpto y Muni Contratista'] = pd.factorize(secop1['Dpto y Muni Contratista'])[0] #37\n",
    "secop1['Rango de Ejec del Contrato'] = pd.factorize(secop1['Rango de Ejec del Contrato'])[0] #44\n",
    "#secop1['Municipio Entidad'] = pd.factorize(secop1['Municipio Entidad'])[0]\n",
    "secop1['Departamento Entidad'] = pd.factorize(secop1['Departamento Entidad'])[0] #68\n",
    "#secop1['Prorroga'] = pd.factorize(secop1['Prorroga'])[0]\n",
    "#secop1['Adicion'] = pd.factorize(secop1['Adicion'])[0]\n",
    "\"\"\"\n",
    "\n",
    "# Eliminación filas con observaciones nulas\n",
    "#secop1.dropna(inplace=True)\n",
    "#secop1.head()"
   ]
  },
  {
   "cell_type": "code",
   "execution_count": 80,
   "id": "0c8820ec",
   "metadata": {},
   "outputs": [
    {
     "name": "stdout",
     "output_type": "stream",
     "text": [
      "<class 'pandas.core.frame.DataFrame'>\n",
      "Int64Index: 54404 entries, 1 to 135820\n",
      "Data columns (total 21 columns):\n",
      " #   Column                         Non-Null Count  Dtype \n",
      "---  ------                         --------------  ----- \n",
      " 0   Orden Entidad                  54404 non-null  object\n",
      " 1   Modalidad de Contratacion      54404 non-null  object\n",
      " 2   Estado del Proceso             54404 non-null  int64 \n",
      " 3   Objeto a Contratar             54404 non-null  object\n",
      " 4   Municipio de Obtencion         54404 non-null  object\n",
      " 5   Cuantia Proceso                54404 non-null  int64 \n",
      " 6   Nombre Grupo                   54404 non-null  object\n",
      " 7   Tipo Identifi del Contratista  54404 non-null  object\n",
      " 8   Dpto y Muni Contratista        54404 non-null  object\n",
      " 9   Anno Ini Ejec Contrato         54404 non-null  int64 \n",
      " 10  Mes Ini Ejec Contrato          54404 non-null  int64 \n",
      " 11  Plazo de Ejec del Contrato     54404 non-null  int64 \n",
      " 12  Rango de Ejec del Contrato     54404 non-null  object\n",
      " 13  Prorroga                       54404 non-null  int64 \n",
      " 14  Tiempo Adiciones en Dias       54404 non-null  int64 \n",
      " 15  Tiempo Adiciones en Meses      54404 non-null  int64 \n",
      " 16  Cuantia Contrato               54404 non-null  int64 \n",
      " 17  Adicion                        54404 non-null  int64 \n",
      " 18  Valor Total de Adiciones       54404 non-null  int64 \n",
      " 19  Valor Contrato con Adiciones   54404 non-null  int64 \n",
      " 20  Departamento Entidad           54404 non-null  object\n",
      "dtypes: int64(12), object(9)\n",
      "memory usage: 9.1+ MB\n",
      "time: 62 ms (started: 2023-05-06 20:51:45 -05:00)\n"
     ]
    }
   ],
   "source": [
    "secop1.info()"
   ]
  },
  {
   "cell_type": "code",
   "execution_count": 81,
   "id": "a2e8dc09",
   "metadata": {},
   "outputs": [
    {
     "name": "stdout",
     "output_type": "stream",
     "text": [
      "Train: 20100 \n",
      "y_train:\n",
      "0    19908\n",
      "1      192\n",
      "Name: Estado del Proceso, dtype: int64\n",
      "\n",
      "Test: 9900 \n",
      "y_test:\n",
      "0    9806\n",
      "1      94\n",
      "Name: Estado del Proceso, dtype: int64\n",
      "time: 281 ms (started: 2023-05-06 20:51:45 -05:00)\n"
     ]
    }
   ],
   "source": [
    "# Selección de variables predictoras para Prorroga\n",
    "feature_cols = ['Orden Entidad',\n",
    "                'Modalidad de Contratacion',\n",
    "                #'Estado del Proceso',\n",
    "                #'Objeto a Contratar',\n",
    "                'Municipio de Obtencion',\n",
    "                'Cuantia Proceso',\n",
    "                'Nombre Grupo',\n",
    "                'Tipo Identifi del Contratista',\n",
    "                'Dpto y Muni Contratista',\n",
    "                'Anno Ini Ejec Contrato',\n",
    "                'Mes Ini Ejec Contrato',\n",
    "                'Plazo de Ejec del Contrato',\n",
    "                'Rango de Ejec del Contrato',\n",
    "                #'Prorroga',\n",
    "                'Tiempo Adiciones en Dias',\n",
    "                'Tiempo Adiciones en Meses',\n",
    "                #'Cuantia Contrato',\n",
    "                'Adicion',\n",
    "                'Valor Total de Adiciones',\n",
    "                #'Valor Contrato con Adiciones',\n",
    "                'Departamento Entidad'\n",
    "                ]\n",
    "\n",
    "\n",
    "# Separación de variables predictoras (X) y variable de interes (y)\n",
    "#secop1sample = secop1.sample(30000) # Se incia con un sample de 20k de los 135k registros\n",
    "X = secop1[feature_cols]\n",
    "y = (secop1['Estado del Proceso'])\n",
    "\n",
    "from sklearn.preprocessing import OneHotEncoder, StandardScaler\n",
    "from scipy.sparse import hstack\n",
    "\n",
    "#Perform one-hot encoding on the categorical variables\n",
    "categorical_cols = ['Orden Entidad', 'Modalidad de Contratacion','Municipio de Obtencion', 'Nombre Grupo','Tipo Identifi del Contratista','Dpto y Muni Contratista','Rango de Ejec del Contrato','Departamento Entidad']\n",
    "encoder = OneHotEncoder(drop='first')\n",
    "X_categorical = encoder.fit_transform(X[categorical_cols])\n",
    "\n",
    "\n",
    "# Standardize the numerical variables\n",
    "numerical_cols = ['Cuantia Proceso','Anno Ini Ejec Contrato', 'Mes Ini Ejec Contrato', 'Plazo de Ejec del Contrato','Tiempo Adiciones en Dias','Tiempo Adiciones en Meses','Adicion','Valor Total de Adiciones']\n",
    "scaler = StandardScaler()\n",
    "X_numerical = scaler.fit_transform(X[numerical_cols])\n",
    "\n",
    "# Concatenate the one-hot encoded categorical and standardized numerical variables\n",
    "X_processed = hstack([X_categorical, X_numerical])\n",
    "\n",
    "# Convert the sparse matrix to a dense numpy array\n",
    "X_processed = X_processed.toarray()\n",
    "\n",
    "# Separación de variables predictoras (X) y variable de interés (y) en set de entrenamiento y test usandola función train_test_split\n",
    "X_train, X_test, y_train, y_test = train_test_split(X_processed, y, test_size=0.33, random_state=40, stratify=y)\n",
    "print('Train:', y_train.shape[0], '\\ny_train:')\n",
    "print(y_train.value_counts())\n",
    "print('\\nTest:', y_test.shape[0], '\\ny_test:')\n",
    "print(y_test.value_counts())"
   ]
  },
  {
   "cell_type": "code",
   "execution_count": 82,
   "id": "6f127a5d",
   "metadata": {},
   "outputs": [
    {
     "data": {
      "text/plain": [
       "<AxesSubplot:>"
      ]
     },
     "execution_count": 82,
     "metadata": {},
     "output_type": "execute_result"
    },
    {
     "data": {
      "image/png": "[encoded data removed]",
      "text/plain": [
       "<Figure size 432x288 with 2 Axes>"
      ]
     },
     "metadata": {
      "needs_background": "light"
     },
     "output_type": "display_data"
    },
    {
     "name": "stdout",
     "output_type": "stream",
     "text": [
      "time: 391 ms (started: 2023-05-06 20:51:46 -05:00)\n"
     ]
    }
   ],
   "source": [
    "import seaborn as sns\n",
    "# calculate the correlation matrix\n",
    "numerical = X.loc[:, ['Cuantia Proceso','Anno Ini Ejec Contrato', 'Mes Ini Ejec Contrato', 'Plazo de Ejec del Contrato','Tiempo Adiciones en Dias','Tiempo Adiciones en Meses','Adicion','Valor Total de Adiciones']]\n",
    "corr_matrix = numerical.corr()\n",
    "\n",
    "# Plot the correlation matrix using Seaborn\n",
    "sns.heatmap(corr_matrix, cmap='coolwarm', annot=True, fmt='.2f')"
   ]
  },
  {
   "cell_type": "code",
   "execution_count": 83,
   "id": "247123e9",
   "metadata": {},
   "outputs": [
    {
     "name": "stdout",
     "output_type": "stream",
     "text": [
      "time: 0 ns (started: 2023-05-06 20:51:46 -05:00)\n"
     ]
    }
   ],
   "source": [
    "# Funcion para mostrar los resultados\n",
    "def mostrar_resultados(y_test, y_pred):\n",
    "    conf_matrix = confusion_matrix(y_test, y_pred)\n",
    "    plt.figure(figsize=(6, 6))\n",
    "    ConfusionMatrixDisplay(conf_matrix).plot()\n",
    "    plt.title(\"Confusion matrix\")\n",
    "    plt.ylabel('True class')\n",
    "    plt.xlabel('Predicted class')\n",
    "    plt.show()\n",
    "    print (classification_report(y_test, y_pred))"
   ]
  },
  {
   "cell_type": "markdown",
   "id": "432afe5b",
   "metadata": {},
   "source": [
    "# XGB Regressor Calibration Full"
   ]
  },
  {
   "cell_type": "markdown",
   "id": "13f0e810",
   "metadata": {},
   "source": [
    "## Paso 0 : Definición inicial de Parámetros"
   ]
  },
  {
   "cell_type": "code",
   "execution_count": 113,
   "id": "d0ca3dcc",
   "metadata": {},
   "outputs": [
    {
     "name": "stdout",
     "output_type": "stream",
     "text": [
      "time: 16 ms (started: 2023-05-07 09:08:50 -05:00)\n"
     ]
    }
   ],
   "source": [
    "base_score = None\n",
    "booster = None\n",
    "colsample_bylevel = None\n",
    "colsample_bynode = None\n",
    "enable_categorical = False\n",
    "importance_type=None\n",
    "interaction_constraints=None\n",
    "max_delta_step=None\n",
    "\n",
    "objective = 'binary:logistic'\n",
    "eval_metric = \"logloss\"\n",
    "\n",
    "learning_rate=None\n",
    "max_depth = 6\n",
    "n_estimators=100\n",
    "colsample_bytree = 1\n",
    "gamma = 0\n",
    "min_child_weight = 1\n",
    "reg_alpha=None\n",
    "reg_lambda=None\n",
    "subsample = 1\n",
    "\n",
    "random_state=1\n",
    "silent = 0\n",
    "seed = 0\n",
    "verbosity=0"
   ]
  },
  {
   "cell_type": "markdown",
   "id": "fb63502f",
   "metadata": {},
   "source": [
    "## Paso 1: Calibración de max_depth y min_child_weight"
   ]
  },
  {
   "cell_type": "code",
   "execution_count": 114,
   "id": "42f3e70a",
   "metadata": {},
   "outputs": [
    {
     "name": "stdout",
     "output_type": "stream",
     "text": [
      "Fitting 5 folds for each of 12 candidates, totalling 60 fits\n",
      "{'mean_fit_time': array([ 4.43964119,  4.35406771,  4.49202747,  6.57012744,  6.56018271,\n",
      "        6.47687745,  8.669697  ,  8.6388885 ,  8.62979984, 13.36130748,\n",
      "       12.12680469, 10.59254661]), 'std_fit_time': array([0.13519867, 0.04780222, 0.09846059, 0.06999536, 0.09891829,\n",
      "       0.05079607, 0.15291081, 0.08536954, 0.22185035, 1.3411604 ,\n",
      "       1.59646433, 0.32020014]), 'mean_score_time': array([0.02077737, 0.0184041 , 0.01755881, 0.02040777, 0.0201056 ,\n",
      "       0.01870475, 0.01811938, 0.02021704, 0.02061143, 0.02860918,\n",
      "       0.02440553, 0.02010522]), 'std_score_time': array([0.00634009, 0.00135698, 0.00086725, 0.00185954, 0.00233448,\n",
      "       0.00139964, 0.00066993, 0.0007399 , 0.00048617, 0.00273196,\n",
      "       0.00531557, 0.00185393]), 'param_max_depth': masked_array(data=[3, 3, 3, 5, 5, 5, 7, 7, 7, 9, 9, 9],\n",
      "             mask=[False, False, False, False, False, False, False, False,\n",
      "                   False, False, False, False],\n",
      "       fill_value='?',\n",
      "            dtype=object), 'param_min_child_weight': masked_array(data=[1, 3, 5, 1, 3, 5, 1, 3, 5, 1, 3, 5],\n",
      "             mask=[False, False, False, False, False, False, False, False,\n",
      "                   False, False, False, False],\n",
      "       fill_value='?',\n",
      "            dtype=object), 'params': [{'max_depth': 3, 'min_child_weight': 1}, {'max_depth': 3, 'min_child_weight': 3}, {'max_depth': 3, 'min_child_weight': 5}, {'max_depth': 5, 'min_child_weight': 1}, {'max_depth': 5, 'min_child_weight': 3}, {'max_depth': 5, 'min_child_weight': 5}, {'max_depth': 7, 'min_child_weight': 1}, {'max_depth': 7, 'min_child_weight': 3}, {'max_depth': 7, 'min_child_weight': 5}, {'max_depth': 9, 'min_child_weight': 1}, {'max_depth': 9, 'min_child_weight': 3}, {'max_depth': 9, 'min_child_weight': 5}], 'split0_test_score': array([0.10526316, 0.10526316, 0.07894737, 0.10526316, 0.23684211,\n",
      "       0.18421053, 0.26315789, 0.13157895, 0.18421053, 0.18421053,\n",
      "       0.26315789, 0.26315789]), 'split1_test_score': array([0.        , 0.02631579, 0.        , 0.02631579, 0.05263158,\n",
      "       0.05263158, 0.05263158, 0.05263158, 0.05263158, 0.07894737,\n",
      "       0.05263158, 0.05263158]), 'split2_test_score': array([0.05263158, 0.02631579, 0.05263158, 0.02631579, 0.02631579,\n",
      "       0.05263158, 0.02631579, 0.02631579, 0.05263158, 0.02631579,\n",
      "       0.02631579, 0.07894737]), 'split3_test_score': array([0.        , 0.        , 0.        , 0.        , 0.02564103,\n",
      "       0.02564103, 0.02564103, 0.        , 0.02564103, 0.02564103,\n",
      "       0.02564103, 0.02564103]), 'split4_test_score': array([0.12820513, 0.05128205, 0.07692308, 0.1025641 , 0.07692308,\n",
      "       0.07692308, 0.12820513, 0.07692308, 0.1025641 , 0.07692308,\n",
      "       0.1025641 , 0.1025641 ]), 'mean_test_score': array([0.05721997, 0.04183536, 0.0417004 , 0.05209177, 0.08367072,\n",
      "       0.07840756, 0.09919028, 0.05748988, 0.08353576, 0.07840756,\n",
      "       0.09406208, 0.10458839]), 'std_test_score': array([0.05275669, 0.03562088, 0.03528544, 0.04339817, 0.07890179,\n",
      "       0.05533458, 0.09012784, 0.04509402, 0.05614165, 0.05778343,\n",
      "       0.0890541 , 0.08335232]), 'rank_test_score': array([ 9, 11, 12, 10,  4,  6,  2,  8,  5,  6,  3,  1])}\n",
      "Best parameters {'max_depth': 9, 'min_child_weight': 5}\n",
      "Best score 0.10458839406207827\n",
      "time: 8min 9s (started: 2023-05-07 09:08:50 -05:00)\n"
     ]
    }
   ],
   "source": [
    "parameters = {}\n",
    "parameters['max_depth'] = max_depth\n",
    "parameters['min_child_weight']= min_child_weight\n",
    "parameters['gamma'] = gamma\n",
    "parameters['subsample']= subsample\n",
    "parameters['colsample_bytree']= colsample_bytree\n",
    "parameters['reg_alpha'] = reg_alpha\n",
    "parameters['reg_lambda'] = reg_lambda\n",
    "parameters['learning_rate'] = learning_rate\n",
    "parameters['n_estimators'] = n_estimators\n",
    "\n",
    "scores = []\n",
    "\n",
    "cv_params = {'max_depth':range(3,10,2),  # Valor entre 3 y 10.\n",
    "             'min_child_weight': [1,3,5]\n",
    "            }\n",
    "\n",
    "gbm = GridSearchCV(XGBClassifier(\n",
    "                                        objective = objective,\n",
    "                                        seed = seed,\n",
    "                                        n_estimators = n_estimators,\n",
    "                                        learning_rate = learning_rate,\n",
    "                                        gamma = gamma,\n",
    "                                        subsample = subsample,\n",
    "                                        colsample_bytree = colsample_bytree,\n",
    "                                        reg_alpha = reg_alpha,\n",
    "                                        reg_lambda = reg_lambda,\n",
    "                                        verbosity = verbosity,\n",
    "                                        eval_metric = eval_metric,\n",
    "                                        random_state=random_state\n",
    "                                    ),\n",
    "                    \n",
    "                    param_grid = cv_params,\n",
    "                    scoring = 'recall',\n",
    "                    cv = 5,\n",
    "                    verbose = True\n",
    ")\n",
    "\n",
    "gbm.fit(X_train, y_train)\n",
    "print(gbm.cv_results_)\n",
    "print(\"Best parameters %s\" %gbm.best_params_)\n",
    "print(\"Best score %s\" %gbm.best_score_)"
   ]
  },
  {
   "cell_type": "markdown",
   "id": "81d4b023",
   "metadata": {},
   "source": [
    "### Estable óptimos temporales max_depth y min_child_weight"
   ]
  },
  {
   "cell_type": "code",
   "execution_count": 115,
   "id": "9dabf402",
   "metadata": {},
   "outputs": [
    {
     "name": "stdout",
     "output_type": "stream",
     "text": [
      "time: 0 ns (started: 2023-05-07 09:17:00 -05:00)\n"
     ]
    }
   ],
   "source": [
    "max_depth = gbm.best_params_['max_depth']\n",
    "min_child_weight = gbm.best_params_['min_child_weight']\n",
    "parameters['max_depth'] = max_depth\n",
    "parameters['min_child_weight'] = min_child_weight\n",
    "scores.append(gbm.best_score_)"
   ]
  },
  {
   "cell_type": "markdown",
   "id": "e17651b8",
   "metadata": {},
   "source": [
    "### Calibración de max_depth y min_child_weight con grilla detallada"
   ]
  },
  {
   "cell_type": "code",
   "execution_count": 116,
   "id": "a4c8dd8a",
   "metadata": {},
   "outputs": [
    {
     "name": "stdout",
     "output_type": "stream",
     "text": [
      "Fitting 5 folds for each of 15 candidates, totalling 75 fits\n",
      "{'mean_fit_time': array([ 9.84055648,  9.64249659,  9.31065173,  9.70734496,  9.64554358,\n",
      "       10.65117631, 10.89496756, 10.61595078, 10.95131044, 10.97595615,\n",
      "       12.32236638, 11.95430121, 11.94200902, 11.8042954 , 11.7844316 ]), 'std_fit_time': array([0.26594216, 0.17117487, 0.06619939, 0.31976639, 0.11746028,\n",
      "       0.09960216, 0.44005102, 0.1513251 , 0.17271345, 0.6264628 ,\n",
      "       0.35392644, 0.19993475, 0.27003165, 0.26571318, 0.19075052]), 'mean_score_time': array([0.021208  , 0.01885095, 0.01959605, 0.01920447, 0.02201247,\n",
      "       0.01940718, 0.01961236, 0.0203083 , 0.02151213, 0.02082229,\n",
      "       0.02090702, 0.02141318, 0.02020459, 0.02760625, 0.02171273]), 'std_score_time': array([0.0011709 , 0.00099391, 0.00162316, 0.00160058, 0.00261242,\n",
      "       0.00162769, 0.00196116, 0.00172116, 0.00105417, 0.00266347,\n",
      "       0.00294177, 0.0008001 , 0.00183325, 0.01682767, 0.00074186]), 'param_max_depth': masked_array(data=[8, 8, 8, 8, 8, 9, 9, 9, 9, 9, 10, 10, 10, 10, 10],\n",
      "             mask=[False, False, False, False, False, False, False, False,\n",
      "                   False, False, False, False, False, False, False],\n",
      "       fill_value='?',\n",
      "            dtype=object), 'param_min_child_weight': masked_array(data=[4, 4.5, 5, 5.5, 6, 4, 4.5, 5, 5.5, 6, 4, 4.5, 5, 5.5,\n",
      "                   6],\n",
      "             mask=[False, False, False, False, False, False, False, False,\n",
      "                   False, False, False, False, False, False, False],\n",
      "       fill_value='?',\n",
      "            dtype=object), 'params': [{'max_depth': 8, 'min_child_weight': 4}, {'max_depth': 8, 'min_child_weight': 4.5}, {'max_depth': 8, 'min_child_weight': 5}, {'max_depth': 8, 'min_child_weight': 5.5}, {'max_depth': 8, 'min_child_weight': 6}, {'max_depth': 9, 'min_child_weight': 4}, {'max_depth': 9, 'min_child_weight': 4.5}, {'max_depth': 9, 'min_child_weight': 5}, {'max_depth': 9, 'min_child_weight': 5.5}, {'max_depth': 9, 'min_child_weight': 6}, {'max_depth': 10, 'min_child_weight': 4}, {'max_depth': 10, 'min_child_weight': 4.5}, {'max_depth': 10, 'min_child_weight': 5}, {'max_depth': 10, 'min_child_weight': 5.5}, {'max_depth': 10, 'min_child_weight': 6}], 'split0_test_score': array([0.23684211, 0.26315789, 0.23684211, 0.15789474, 0.28947368,\n",
      "       0.23684211, 0.26315789, 0.26315789, 0.26315789, 0.21052632,\n",
      "       0.21052632, 0.23684211, 0.15789474, 0.21052632, 0.18421053]), 'split1_test_score': array([0.05263158, 0.07894737, 0.05263158, 0.02631579, 0.10526316,\n",
      "       0.07894737, 0.05263158, 0.05263158, 0.05263158, 0.05263158,\n",
      "       0.02631579, 0.07894737, 0.02631579, 0.05263158, 0.02631579]), 'split2_test_score': array([0.05263158, 0.05263158, 0.02631579, 0.02631579, 0.07894737,\n",
      "       0.07894737, 0.07894737, 0.07894737, 0.05263158, 0.02631579,\n",
      "       0.07894737, 0.07894737, 0.05263158, 0.02631579, 0.10526316]), 'split3_test_score': array([0.02564103, 0.02564103, 0.02564103, 0.02564103, 0.02564103,\n",
      "       0.02564103, 0.        , 0.02564103, 0.02564103, 0.02564103,\n",
      "       0.02564103, 0.02564103, 0.02564103, 0.02564103, 0.02564103]), 'split4_test_score': array([0.12820513, 0.07692308, 0.07692308, 0.1025641 , 0.07692308,\n",
      "       0.07692308, 0.05128205, 0.1025641 , 0.1025641 , 0.07692308,\n",
      "       0.07692308, 0.07692308, 0.07692308, 0.1025641 , 0.07692308]), 'mean_test_score': array([0.09919028, 0.09946019, 0.08367072, 0.06774629, 0.11524966,\n",
      "       0.09946019, 0.08920378, 0.10458839, 0.09932524, 0.07840756,\n",
      "       0.08367072, 0.09946019, 0.06788124, 0.08353576, 0.08367072]), 'std_test_score': array([0.07685676, 0.08410449, 0.07890179, 0.05393487, 0.09085178,\n",
      "       0.07165547, 0.09066215, 0.08335232, 0.08560559, 0.06873111,\n",
      "       0.06755326, 0.07165547, 0.04884395, 0.06938252, 0.05878274]), 'rank_test_score': array([ 7,  5,  9, 15,  1,  3,  8,  2,  6, 13,  9,  3, 14, 12,  9])}\n",
      "Best parameters {'max_depth': 8, 'min_child_weight': 6}\n",
      "Best score 0.11524966261808367\n",
      "time: 13min 45s (started: 2023-05-07 09:17:00 -05:00)\n"
     ]
    }
   ],
   "source": [
    "cv_params = {'max_depth': [max_depth-1, max_depth, max_depth+1], \n",
    "             'min_child_weight': [min_child_weight-1, min_child_weight-0.5, min_child_weight, min_child_weight+0.5, min_child_weight+1]\n",
    "            }\n",
    "\n",
    "gbm = GridSearchCV(XGBClassifier(\n",
    "                                        objective = objective,\n",
    "                                        seed = seed,\n",
    "                                        n_estimators = n_estimators,\n",
    "                                        learning_rate = learning_rate,\n",
    "                                        gamma = gamma,\n",
    "                                        subsample = subsample,\n",
    "                                        colsample_bytree = colsample_bytree,\n",
    "                                        reg_alpha = reg_alpha,\n",
    "                                        reg_lambda = reg_lambda,\n",
    "                                        verbosity = verbosity,\n",
    "                                        eval_metric = eval_metric,\n",
    "                                        random_state=random_state\n",
    "                                        \n",
    "                                    ),\n",
    "                   \n",
    "                    param_grid = cv_params,\n",
    "                    scoring = \"recall\",\n",
    "                    cv = 5,\n",
    "                    verbose = True\n",
    ")\n",
    "\n",
    "gbm.fit(X_train, y_train)\n",
    "print(gbm.cv_results_)\n",
    "print(\"Best parameters %s\" %gbm.best_params_)\n",
    "print(\"Best score %s\" %gbm.best_score_)"
   ]
  },
  {
   "cell_type": "markdown",
   "id": "9a2b6cc4",
   "metadata": {},
   "source": [
    "### Estable óptimos definitivos max_depth y min_child_weight"
   ]
  },
  {
   "cell_type": "code",
   "execution_count": 117,
   "id": "5298d647",
   "metadata": {},
   "outputs": [
    {
     "name": "stdout",
     "output_type": "stream",
     "text": [
      "time: 0 ns (started: 2023-05-07 09:30:45 -05:00)\n"
     ]
    }
   ],
   "source": [
    "max_depth = gbm.best_params_['max_depth']\n",
    "min_child_weight = gbm.best_params_['min_child_weight']\n",
    "parameters['max_depth'] = max_depth\n",
    "parameters['min_child_weight'] = min_child_weight\n",
    "scores.append(gbm.best_score_)"
   ]
  },
  {
   "cell_type": "markdown",
   "id": "33553c08",
   "metadata": {},
   "source": [
    "## Paso 2: Calibración de Parámetro Gamma"
   ]
  },
  {
   "cell_type": "code",
   "execution_count": 118,
   "id": "b27d8139",
   "metadata": {},
   "outputs": [
    {
     "name": "stdout",
     "output_type": "stream",
     "text": [
      "Fitting 5 folds for each of 5 candidates, totalling 25 fits\n",
      "{'mean_fit_time': array([10.2839952 , 10.13858027, 10.2693295 , 10.20681996, 10.25503802]), 'std_fit_time': array([0.38869288, 0.24509174, 0.3739003 , 0.09162724, 0.13206321]), 'mean_score_time': array([0.02011108, 0.02122402, 0.02021208, 0.0356698 , 0.02289014]), 'std_score_time': array([0.00048699, 0.00208181, 0.00075115, 0.02519368, 0.00341887]), 'param_gamma': masked_array(data=[0.1, 0.3, 0.5, 0.7, 0.9],\n",
      "             mask=[False, False, False, False, False],\n",
      "       fill_value='?',\n",
      "            dtype=object), 'params': [{'gamma': 0.1}, {'gamma': 0.3}, {'gamma': 0.5}, {'gamma': 0.7}, {'gamma': 0.9}], 'split0_test_score': array([0.13157895, 0.21052632, 0.15789474, 0.23684211, 0.13157895]), 'split1_test_score': array([0.        , 0.02631579, 0.07894737, 0.02631579, 0.02631579]), 'split2_test_score': array([0.07894737, 0.07894737, 0.05263158, 0.05263158, 0.02631579]), 'split3_test_score': array([0.        , 0.02564103, 0.02564103, 0.02564103, 0.02564103]), 'split4_test_score': array([0.12820513, 0.07692308, 0.07692308, 0.1025641 , 0.07692308]), 'mean_test_score': array([0.06774629, 0.08367072, 0.07840756, 0.08879892, 0.05735493]), 'std_test_score': array([0.05836859, 0.06755326, 0.04420275, 0.07912952, 0.0420113 ]), 'rank_test_score': array([4, 2, 3, 1, 5])}\n",
      "Best parameters {'gamma': 0.7}\n",
      "Best score 0.08879892037786774\n",
      "time: 4min 28s (started: 2023-05-07 09:30:45 -05:00)\n"
     ]
    }
   ],
   "source": [
    "cv_params = {'gamma': [i/10.0 for i in range(1,10,2)]}\n",
    "\n",
    "gbm = GridSearchCV(XGBClassifier(\n",
    "                                        objective = objective,\n",
    "                                        seed = seed,\n",
    "                                        n_estimators = n_estimators,\n",
    "                                        max_depth = max_depth,\n",
    "                                        min_child_weight = min_child_weight,\n",
    "                                        learning_rate = learning_rate,\n",
    "                                        subsample = subsample,\n",
    "                                        colsample_bytree = colsample_bytree,\n",
    "                                        reg_alpha = reg_alpha,\n",
    "                                        reg_lambda = reg_lambda,\n",
    "                                        verbosity = verbosity,\n",
    "                                        eval_metric = eval_metric,\n",
    "                                        random_state=random_state\n",
    "                                                                                \n",
    "                                    ),\n",
    "                   \n",
    "                    param_grid = cv_params,\n",
    "                    scoring = 'recall',\n",
    "                    cv = 5,\n",
    "                    verbose = True\n",
    ")\n",
    "\n",
    "gbm.fit(X_train, y_train)\n",
    "print(gbm.cv_results_)\n",
    "print(\"Best parameters %s\" %gbm.best_params_)\n",
    "print(\"Best score %s\" %gbm.best_score_)"
   ]
  },
  {
   "cell_type": "markdown",
   "id": "df8f004c",
   "metadata": {},
   "source": [
    "### Estable óptimos temporales gamma"
   ]
  },
  {
   "cell_type": "code",
   "execution_count": 119,
   "id": "523743a0",
   "metadata": {
    "scrolled": true
   },
   "outputs": [
    {
     "name": "stdout",
     "output_type": "stream",
     "text": [
      "time: 0 ns (started: 2023-05-07 09:35:14 -05:00)\n"
     ]
    }
   ],
   "source": [
    "gamma = gbm.best_params_['gamma']\n",
    "parameters['gamma'] = gamma\n",
    "scores.append(gbm.best_score_)"
   ]
  },
  {
   "cell_type": "code",
   "execution_count": 120,
   "id": "bae51cac",
   "metadata": {},
   "outputs": [
    {
     "name": "stdout",
     "output_type": "stream",
     "text": [
      "time: 16 ms (started: 2023-05-07 09:35:14 -05:00)\n"
     ]
    }
   ],
   "source": [
    "### Calibración de gamma con grilla detallada"
   ]
  },
  {
   "cell_type": "code",
   "execution_count": 121,
   "id": "847af154",
   "metadata": {},
   "outputs": [
    {
     "name": "stdout",
     "output_type": "stream",
     "text": [
      "Fitting 5 folds for each of 5 candidates, totalling 25 fits\n",
      "{'mean_fit_time': array([0.16446609, 7.86112127, 8.03146067, 7.98949742, 7.98819199]), 'std_fit_time': array([0.01923539, 0.20508949, 0.30282161, 0.28201966, 0.21613834]), 'mean_score_time': array([0.        , 0.02001243, 0.0193059 , 0.01827989, 0.0183075 ]), 'std_score_time': array([0.        , 0.00125917, 0.00116669, 0.00150225, 0.0019878 ]), 'param_gamma': masked_array(data=[-0.30000000000000004, 0.19999999999999996, 0.7, 1.2,\n",
      "                   1.7],\n",
      "             mask=[False, False, False, False, False],\n",
      "       fill_value='?',\n",
      "            dtype=object), 'params': [{'gamma': -0.30000000000000004}, {'gamma': 0.19999999999999996}, {'gamma': 0.7}, {'gamma': 1.2}, {'gamma': 1.7}], 'split0_test_score': array([       nan, 0.18421053, 0.21052632, 0.10526316, 0.18421053]), 'split1_test_score': array([       nan, 0.02631579, 0.05263158, 0.02631579, 0.        ]), 'split2_test_score': array([       nan, 0.02631579, 0.05263158, 0.05263158, 0.05263158]), 'split3_test_score': array([       nan, 0.        , 0.02564103, 0.02564103, 0.02564103]), 'split4_test_score': array([       nan, 0.1025641 , 0.1025641 , 0.07692308, 0.07692308]), 'mean_test_score': array([       nan, 0.06788124, 0.08879892, 0.05735493, 0.06788124]), 'std_test_score': array([       nan, 0.06752576, 0.06574513, 0.03056017, 0.06362218]), 'rank_test_score': array([5, 2, 1, 4, 2])}\n",
      "Best parameters {'gamma': 0.7}\n",
      "Best score 0.08879892037786774\n",
      "time: 2min 50s (started: 2023-05-07 09:35:14 -05:00)\n"
     ]
    }
   ],
   "source": [
    "cv_params = {'gamma': [gamma-1, gamma-0.5, gamma, gamma+0.5, gamma+1]\n",
    "            }\n",
    "\n",
    "gbm = GridSearchCV(XGBClassifier(\n",
    "                                        objective = objective,\n",
    "                                        seed = seed,\n",
    "                                        n_estimators = n_estimators,\n",
    "                                        learning_rate = learning_rate,\n",
    "                                        gamma = gamma,\n",
    "                                        subsample = subsample,\n",
    "                                        colsample_bytree = colsample_bytree,\n",
    "                                        reg_alpha = reg_alpha,\n",
    "                                        reg_lambda = reg_lambda,\n",
    "                                        verbosity = verbosity,\n",
    "                                        eval_metric = eval_metric,\n",
    "                                        random_state=random_state\n",
    "                                        \n",
    "                                    ),\n",
    "                   \n",
    "                    param_grid = cv_params,\n",
    "                    scoring = \"recall\",\n",
    "                    cv = 5,\n",
    "                    verbose = True\n",
    ")\n",
    "\n",
    "gbm.fit(X_train, y_train)\n",
    "print(gbm.cv_results_)\n",
    "print(\"Best parameters %s\" %gbm.best_params_)\n",
    "print(\"Best score %s\" %gbm.best_score_)"
   ]
  },
  {
   "cell_type": "markdown",
   "id": "c2cc806d",
   "metadata": {},
   "source": [
    "### Establece el óptimo definitivo de gamma"
   ]
  },
  {
   "cell_type": "code",
   "execution_count": 122,
   "id": "cb45414d",
   "metadata": {},
   "outputs": [
    {
     "name": "stdout",
     "output_type": "stream",
     "text": [
      "time: 0 ns (started: 2023-05-07 09:38:05 -05:00)\n"
     ]
    }
   ],
   "source": [
    "gamma = gbm.best_params_['gamma']\n",
    "parameters['gamma'] = gamma\n",
    "scores.append(gbm.best_score_)"
   ]
  },
  {
   "cell_type": "markdown",
   "id": "ea28472d",
   "metadata": {},
   "source": [
    "## Paso 3: Calibración de parámetros subsample y colsample_bytree"
   ]
  },
  {
   "cell_type": "code",
   "execution_count": 123,
   "id": "3d32738d",
   "metadata": {},
   "outputs": [
    {
     "name": "stdout",
     "output_type": "stream",
     "text": [
      "Fitting 5 folds for each of 25 candidates, totalling 125 fits\n",
      "{'mean_fit_time': array([ 6.28578277,  6.3875134 ,  6.70320821,  6.91666918,  6.87465162,\n",
      "        7.15673547,  7.39692426,  7.60198073,  7.56854782,  7.95147977,\n",
      "        7.66071367,  8.05772042,  8.374648  ,  8.44403849,  8.50591993,\n",
      "        8.30088205,  8.58265605,  9.02140808,  9.17068901,  9.41226411,\n",
      "        9.41945806,  9.4691401 ,  9.55714297, 10.22198257, 10.23493519]), 'std_fit_time': array([0.30898032, 0.11668998, 0.14286775, 0.16434294, 0.32071375,\n",
      "       0.36291186, 0.22154948, 0.3039075 , 0.13185739, 0.29485043,\n",
      "       0.11117777, 0.21884985, 0.26000493, 0.27216221, 0.31533434,\n",
      "       0.50920326, 0.29968756, 0.27835379, 0.41205664, 0.39874384,\n",
      "       0.29124193, 0.52936754, 0.3244493 , 0.36431861, 0.25014204]), 'mean_score_time': array([0.02000432, 0.02046227, 0.02351255, 0.02300944, 0.02074347,\n",
      "       0.01980443, 0.0202198 , 0.02152119, 0.02080464, 0.02000761,\n",
      "       0.01940413, 0.02011738, 0.01961241, 0.02170801, 0.02020226,\n",
      "       0.01880651, 0.01920271, 0.02020826, 0.02131882, 0.02000451,\n",
      "       0.0188066 , 0.02020464, 0.01940975, 0.02061877, 0.0200047 ]), 'std_score_time': array([0.00209806, 0.00310099, 0.00759846, 0.00713753, 0.00073345,\n",
      "       0.00172058, 0.00141782, 0.00327651, 0.00193964, 0.00127018,\n",
      "       0.00101985, 0.00136584, 0.00101844, 0.00489279, 0.00172271,\n",
      "       0.00103042, 0.00074891, 0.00222119, 0.00289768, 0.00200045,\n",
      "       0.00213907, 0.00278632, 0.00136704, 0.00230167, 0.00209797]), 'param_colsample_bytree': masked_array(data=[0.6, 0.6, 0.6, 0.6, 0.6, 0.7, 0.7, 0.7, 0.7, 0.7, 0.8,\n",
      "                   0.8, 0.8, 0.8, 0.8, 0.9, 0.9, 0.9, 0.9, 0.9, 1.0, 1.0,\n",
      "                   1.0, 1.0, 1.0],\n",
      "             mask=[False, False, False, False, False, False, False, False,\n",
      "                   False, False, False, False, False, False, False, False,\n",
      "                   False, False, False, False, False, False, False, False,\n",
      "                   False],\n",
      "       fill_value='?',\n",
      "            dtype=object), 'param_subsample': masked_array(data=[0.6, 0.7, 0.8, 0.9, 1.0, 0.6, 0.7, 0.8, 0.9, 1.0, 0.6,\n",
      "                   0.7, 0.8, 0.9, 1.0, 0.6, 0.7, 0.8, 0.9, 1.0, 0.6, 0.7,\n",
      "                   0.8, 0.9, 1.0],\n",
      "             mask=[False, False, False, False, False, False, False, False,\n",
      "                   False, False, False, False, False, False, False, False,\n",
      "                   False, False, False, False, False, False, False, False,\n",
      "                   False],\n",
      "       fill_value='?',\n",
      "            dtype=object), 'params': [{'colsample_bytree': 0.6, 'subsample': 0.6}, {'colsample_bytree': 0.6, 'subsample': 0.7}, {'colsample_bytree': 0.6, 'subsample': 0.8}, {'colsample_bytree': 0.6, 'subsample': 0.9}, {'colsample_bytree': 0.6, 'subsample': 1.0}, {'colsample_bytree': 0.7, 'subsample': 0.6}, {'colsample_bytree': 0.7, 'subsample': 0.7}, {'colsample_bytree': 0.7, 'subsample': 0.8}, {'colsample_bytree': 0.7, 'subsample': 0.9}, {'colsample_bytree': 0.7, 'subsample': 1.0}, {'colsample_bytree': 0.8, 'subsample': 0.6}, {'colsample_bytree': 0.8, 'subsample': 0.7}, {'colsample_bytree': 0.8, 'subsample': 0.8}, {'colsample_bytree': 0.8, 'subsample': 0.9}, {'colsample_bytree': 0.8, 'subsample': 1.0}, {'colsample_bytree': 0.9, 'subsample': 0.6}, {'colsample_bytree': 0.9, 'subsample': 0.7}, {'colsample_bytree': 0.9, 'subsample': 0.8}, {'colsample_bytree': 0.9, 'subsample': 0.9}, {'colsample_bytree': 0.9, 'subsample': 1.0}, {'colsample_bytree': 1.0, 'subsample': 0.6}, {'colsample_bytree': 1.0, 'subsample': 0.7}, {'colsample_bytree': 1.0, 'subsample': 0.8}, {'colsample_bytree': 1.0, 'subsample': 0.9}, {'colsample_bytree': 1.0, 'subsample': 1.0}], 'split0_test_score': array([0.13157895, 0.13157895, 0.10526316, 0.07894737, 0.23684211,\n",
      "       0.13157895, 0.21052632, 0.10526316, 0.13157895, 0.21052632,\n",
      "       0.15789474, 0.05263158, 0.15789474, 0.10526316, 0.18421053,\n",
      "       0.13157895, 0.15789474, 0.21052632, 0.07894737, 0.21052632,\n",
      "       0.15789474, 0.18421053, 0.18421053, 0.15789474, 0.23684211]), 'split1_test_score': array([0.        , 0.02631579, 0.02631579, 0.02631579, 0.05263158,\n",
      "       0.        , 0.02631579, 0.02631579, 0.02631579, 0.02631579,\n",
      "       0.        , 0.        , 0.02631579, 0.02631579, 0.05263158,\n",
      "       0.        , 0.02631579, 0.05263158, 0.02631579, 0.05263158,\n",
      "       0.02631579, 0.02631579, 0.        , 0.02631579, 0.02631579]), 'split2_test_score': array([0.05263158, 0.07894737, 0.05263158, 0.07894737, 0.07894737,\n",
      "       0.05263158, 0.07894737, 0.05263158, 0.05263158, 0.07894737,\n",
      "       0.07894737, 0.05263158, 0.07894737, 0.07894737, 0.07894737,\n",
      "       0.02631579, 0.05263158, 0.07894737, 0.07894737, 0.05263158,\n",
      "       0.07894737, 0.05263158, 0.05263158, 0.05263158, 0.05263158]), 'split3_test_score': array([0.02564103, 0.        , 0.02564103, 0.        , 0.02564103,\n",
      "       0.02564103, 0.02564103, 0.02564103, 0.02564103, 0.02564103,\n",
      "       0.02564103, 0.02564103, 0.02564103, 0.        , 0.02564103,\n",
      "       0.02564103, 0.02564103, 0.02564103, 0.02564103, 0.02564103,\n",
      "       0.02564103, 0.        , 0.        , 0.02564103, 0.02564103]), 'split4_test_score': array([0.07692308, 0.07692308, 0.07692308, 0.12820513, 0.1025641 ,\n",
      "       0.07692308, 0.07692308, 0.1025641 , 0.1025641 , 0.1025641 ,\n",
      "       0.07692308, 0.12820513, 0.07692308, 0.07692308, 0.12820513,\n",
      "       0.07692308, 0.07692308, 0.1025641 , 0.12820513, 0.12820513,\n",
      "       0.07692308, 0.1025641 , 0.1025641 , 0.07692308, 0.1025641 ]), 'mean_test_score': array([0.05735493, 0.06275304, 0.05735493, 0.06248313, 0.09932524,\n",
      "       0.05735493, 0.08367072, 0.06248313, 0.06774629, 0.08879892,\n",
      "       0.06788124, 0.05182186, 0.0731444 , 0.05748988, 0.09392713,\n",
      "       0.05209177, 0.06788124, 0.09406208, 0.06761134, 0.09392713,\n",
      "       0.0731444 , 0.0731444 , 0.06788124, 0.06788124, 0.08879892]), 'std_test_score': array([0.04518802, 0.04575078, 0.03056017, 0.04488595, 0.07341158,\n",
      "       0.04518802, 0.06755326, 0.03521104, 0.04243744, 0.0678191 ,\n",
      "       0.05421945, 0.04291074, 0.04833231, 0.03846367, 0.05642478,\n",
      "       0.04693059, 0.04884395, 0.06365938, 0.03845893, 0.06759288,\n",
      "       0.04833231, 0.06506151, 0.06954665, 0.04884395, 0.07912952]), 'rank_test_score': array([21, 17, 21, 18,  1, 21,  7, 18, 15,  5, 11, 25,  8, 20,  3, 24, 11,\n",
      "        2, 16,  3,  8,  8, 11, 11,  5])}\n",
      "Best parameters {'colsample_bytree': 0.6, 'subsample': 1.0}\n",
      "Best score 0.09932523616734143\n",
      "time: 17min 18s (started: 2023-05-07 09:38:05 -05:00)\n"
     ]
    }
   ],
   "source": [
    "cv_params = {'subsample': [i/10.0 for i in range(6,11)],\n",
    "             'colsample_bytree': [i/10.0 for i in range(6,11)]\n",
    "            }\n",
    "\n",
    "gbm = GridSearchCV(XGBClassifier(\n",
    "                                        objective = objective,\n",
    "                                        seed = seed,\n",
    "                                        n_estimators = n_estimators,\n",
    "                                        max_depth = max_depth,\n",
    "                                        min_child_weight = min_child_weight,\n",
    "                                        learning_rate = learning_rate,\n",
    "                                        gamma = gamma,\n",
    "                                        reg_alpha = reg_alpha,\n",
    "                                        reg_lambda = reg_lambda,\n",
    "                                        eval_metric = eval_metric,\n",
    "                                        random_state=random_state\n",
    "\n",
    "                                    ),\n",
    "                   \n",
    "                    param_grid = cv_params,\n",
    "                    scoring = 'recall',\n",
    "                    cv = 5,\n",
    "                    verbose = True\n",
    ")\n",
    "\n",
    "gbm.fit(X_train, y_train)\n",
    "print(gbm.cv_results_)\n",
    "print(\"Best parameters %s\" %gbm.best_params_)\n",
    "print(\"Best score %s\" %gbm.best_score_)"
   ]
  },
  {
   "cell_type": "markdown",
   "id": "10d2b679",
   "metadata": {},
   "source": [
    "### Estable óptimos temporales subsample y colsample_bytree"
   ]
  },
  {
   "cell_type": "code",
   "execution_count": 124,
   "id": "f79b3e6e",
   "metadata": {},
   "outputs": [
    {
     "name": "stdout",
     "output_type": "stream",
     "text": [
      "time: 0 ns (started: 2023-05-07 09:55:24 -05:00)\n"
     ]
    }
   ],
   "source": [
    "colsample_bytree = gbm.best_params_['colsample_bytree']\n",
    "subsample = gbm.best_params_['subsample']\n",
    "parameters['colsample_bytree'] = colsample_bytree\n",
    "parameters['subsample'] = subsample\n",
    "scores.append(gbm.best_score_)"
   ]
  },
  {
   "cell_type": "markdown",
   "id": "25aa9584",
   "metadata": {},
   "source": [
    "### Calibración de subsample y colsample_bytree con grilla detallada"
   ]
  },
  {
   "cell_type": "code",
   "execution_count": 125,
   "id": "5d62deaa",
   "metadata": {},
   "outputs": [
    {
     "name": "stdout",
     "output_type": "stream",
     "text": [
      "Fitting 5 folds for each of 12 candidates, totalling 60 fits\n",
      "{'mean_fit_time': array([6.02309079, 5.68974237, 5.55300765, 5.98748646, 5.95874386,\n",
      "       5.95722852, 6.35310025, 6.37540431, 6.39193316, 6.80807996,\n",
      "       6.81950541, 6.82486696]), 'std_fit_time': array([0.18764193, 0.08512644, 0.06464531, 0.06777013, 0.03453342,\n",
      "       0.04863159, 0.02290288, 0.06209499, 0.13647729, 0.14113421,\n",
      "       0.05179805, 0.06470174]), 'mean_score_time': array([0.02040734, 0.02041283, 0.01901054, 0.02054834, 0.01920695,\n",
      "       0.02000747, 0.02000461, 0.01860409, 0.01920428, 0.01941113,\n",
      "       0.01953716, 0.01940336]), 'std_score_time': array([0.00101632, 0.00050125, 0.00063268, 0.00186761, 0.00132868,\n",
      "       0.00154737, 0.00167371, 0.00101995, 0.00147024, 0.00287063,\n",
      "       0.00165174, 0.00080054]), 'param_colsample_bytree': masked_array(data=[0.5, 0.5, 0.5, 0.55, 0.55, 0.55, 0.6, 0.6, 0.6, 0.65,\n",
      "                   0.65, 0.65],\n",
      "             mask=[False, False, False, False, False, False, False, False,\n",
      "                   False, False, False, False],\n",
      "       fill_value='?',\n",
      "            dtype=object), 'param_subsample': masked_array(data=[0.9, 0.95, 1.0, 0.9, 0.95, 1.0, 0.9, 0.95, 1.0, 0.9,\n",
      "                   0.95, 1.0],\n",
      "             mask=[False, False, False, False, False, False, False, False,\n",
      "                   False, False, False, False],\n",
      "       fill_value='?',\n",
      "            dtype=object), 'params': [{'colsample_bytree': 0.5, 'subsample': 0.9}, {'colsample_bytree': 0.5, 'subsample': 0.95}, {'colsample_bytree': 0.5, 'subsample': 1.0}, {'colsample_bytree': 0.55, 'subsample': 0.9}, {'colsample_bytree': 0.55, 'subsample': 0.95}, {'colsample_bytree': 0.55, 'subsample': 1.0}, {'colsample_bytree': 0.6, 'subsample': 0.9}, {'colsample_bytree': 0.6, 'subsample': 0.95}, {'colsample_bytree': 0.6, 'subsample': 1.0}, {'colsample_bytree': 0.65, 'subsample': 0.9}, {'colsample_bytree': 0.65, 'subsample': 0.95}, {'colsample_bytree': 0.65, 'subsample': 1.0}], 'split0_test_score': array([0.18421053, 0.18421053, 0.15789474, 0.15789474, 0.21052632,\n",
      "       0.21052632, 0.07894737, 0.18421053, 0.23684211, 0.07894737,\n",
      "       0.18421053, 0.21052632]), 'split1_test_score': array([0.        , 0.02631579, 0.05263158, 0.05263158, 0.07894737,\n",
      "       0.02631579, 0.02631579, 0.02631579, 0.05263158, 0.02631579,\n",
      "       0.05263158, 0.10526316]), 'split2_test_score': array([0.07894737, 0.05263158, 0.07894737, 0.05263158, 0.05263158,\n",
      "       0.10526316, 0.07894737, 0.07894737, 0.07894737, 0.05263158,\n",
      "       0.07894737, 0.05263158]), 'split3_test_score': array([0.02564103, 0.02564103, 0.02564103, 0.02564103, 0.02564103,\n",
      "       0.02564103, 0.        , 0.02564103, 0.02564103, 0.02564103,\n",
      "       0.02564103, 0.02564103]), 'split4_test_score': array([0.07692308, 0.1025641 , 0.1025641 , 0.07692308, 0.1025641 ,\n",
      "       0.1025641 , 0.12820513, 0.07692308, 0.1025641 , 0.1025641 ,\n",
      "       0.05128205, 0.15384615]), 'mean_test_score': array([0.0731444 , 0.0782726 , 0.08353576, 0.0731444 , 0.09406208,\n",
      "       0.09406208, 0.06248313, 0.07840756, 0.09932524, 0.05721997,\n",
      "       0.07854251, 0.10958165]), 'std_test_score': array([0.06323023, 0.05989988, 0.04520898, 0.04537625, 0.06365938,\n",
      "       0.06787145, 0.04488595, 0.05778343, 0.07341158, 0.03000507,\n",
      "       0.05545984, 0.06701815]), 'rank_test_score': array([ 9,  8,  5,  9,  3,  4, 11,  7,  2, 12,  6,  1])}\n",
      "Best parameters {'colsample_bytree': 0.65, 'subsample': 1.0}\n",
      "Best score 0.1095816464237517\n",
      "max_depth and min_child_weight parameters tuned! moving on to refinement\n",
      "time: 6min 24s (started: 2023-05-07 09:55:24 -05:00)\n"
     ]
    }
   ],
   "source": [
    "cv_params = {'subsample': [i/100.0 for i in range(int((subsample-0.1)*100.0), min(int((subsample+0.1)*100),105) , 5)],\n",
    "             'colsample_bytree': [i/100.0 for i in range(int((colsample_bytree-0.1)*100.0), min(int((colsample_bytree+0.1)*100),105), 5)]\n",
    "            }\n",
    "\n",
    "gbm = GridSearchCV(XGBClassifier(\n",
    "                                        objective = objective,\n",
    "                                        seed = seed,\n",
    "                                        n_estimators = n_estimators,\n",
    "                                        max_depth = max_depth,\n",
    "                                        min_child_weight = min_child_weight,\n",
    "                                        learning_rate = learning_rate,\n",
    "                                        gamma = gamma,\n",
    "                                        reg_alpha = reg_alpha,\n",
    "                                        reg_lambda = reg_lambda,\n",
    "                                        verbosity = verbosity,\n",
    "                                        eval_metric = eval_metric,\n",
    "                                        random_state=random_state\n",
    "                                    ),\n",
    "                   \n",
    "                    param_grid = cv_params,\n",
    "                    scoring = \"recall\",\n",
    "                    cv = 5,\n",
    "                    verbose = True\n",
    ")\n",
    "\n",
    "gbm.fit(X_train, y_train)\n",
    "print(gbm.cv_results_)\n",
    "print(\"Best parameters %s\" %gbm.best_params_)\n",
    "print(\"Best score %s\" %gbm.best_score_)\n",
    "print(\"max_depth and min_child_weight parameters tuned! moving on to refinement\")"
   ]
  },
  {
   "cell_type": "markdown",
   "id": "1900f481",
   "metadata": {},
   "source": [
    "### Estable óptimos definitivos subsample y colsample_bytree"
   ]
  },
  {
   "cell_type": "code",
   "execution_count": 126,
   "id": "ff97aa7b",
   "metadata": {},
   "outputs": [
    {
     "name": "stdout",
     "output_type": "stream",
     "text": [
      "time: 0 ns (started: 2023-05-07 10:01:48 -05:00)\n"
     ]
    }
   ],
   "source": [
    "colsample_bytree = gbm.best_params_['colsample_bytree']\n",
    "subsample = gbm.best_params_['subsample']\n",
    "parameters['colsample_bytree'] = colsample_bytree\n",
    "parameters['subsample'] = subsample\n",
    "scores.append(gbm.best_score_)"
   ]
  },
  {
   "cell_type": "markdown",
   "id": "92b16243",
   "metadata": {},
   "source": [
    "## Paso 4: Calibración de parámetros reg_alpha y reg_lambda"
   ]
  },
  {
   "cell_type": "code",
   "execution_count": 127,
   "id": "5cb6a0d2",
   "metadata": {},
   "outputs": [
    {
     "name": "stdout",
     "output_type": "stream",
     "text": [
      "Fitting 5 folds for each of 25 candidates, totalling 125 fits\n",
      "{'mean_fit_time': array([6.94841032, 6.85023642, 6.79720349, 6.74580107, 6.73220167,\n",
      "       6.77232456, 6.69661384, 6.8186573 , 6.69150891, 6.60588746,\n",
      "       6.67408791, 6.64815941, 6.64612947, 6.616995  , 6.69977689,\n",
      "       6.73896942, 6.52895656, 6.59515724, 6.94771228, 6.82001438,\n",
      "       7.04044943, 6.86132097, 6.8330389 , 6.82897911, 6.79699073]), 'std_fit_time': array([0.06446917, 0.08270651, 0.05306101, 0.05171817, 0.08595896,\n",
      "       0.05689243, 0.06752882, 0.12969318, 0.04095157, 0.07234978,\n",
      "       0.04694473, 0.07070261, 0.01457267, 0.02473261, 0.24071683,\n",
      "       0.14283619, 0.10890409, 0.14942543, 0.38363294, 0.30664878,\n",
      "       0.15934294, 0.07422847, 0.12629195, 0.09165268, 0.07368762]), 'mean_score_time': array([0.01941123, 0.02000709, 0.02081118, 0.01920724, 0.01960435,\n",
      "       0.02001128, 0.01920414, 0.01880431, 0.02040477, 0.01971917,\n",
      "       0.01920414, 0.01980462, 0.01900802, 0.01999836, 0.01940436,\n",
      "       0.0191113 , 0.01901016, 0.0186954 , 0.02030849, 0.01892953,\n",
      "       0.02071075, 0.02041831, 0.0209053 , 0.01990957, 0.02001228]), 'std_score_time': array([0.00149709, 0.00063258, 0.00132774, 0.00147164, 0.00149682,\n",
      "       0.0019978 , 0.00074909, 0.00040019, 0.00101971, 0.00118626,\n",
      "       0.00098006, 0.00074869, 0.00179335, 0.00110748, 0.00135688,\n",
      "       0.00150418, 0.00179412, 0.00153212, 0.00160421, 0.00126853,\n",
      "       0.00199914, 0.00149088, 0.0007988 , 0.00102289, 0.00109923]), 'param_reg_alpha': masked_array(data=[0.1, 0.1, 0.1, 0.1, 0.1, 0.3, 0.3, 0.3, 0.3, 0.3, 0.5,\n",
      "                   0.5, 0.5, 0.5, 0.5, 0.7, 0.7, 0.7, 0.7, 0.7, 0.9, 0.9,\n",
      "                   0.9, 0.9, 0.9],\n",
      "             mask=[False, False, False, False, False, False, False, False,\n",
      "                   False, False, False, False, False, False, False, False,\n",
      "                   False, False, False, False, False, False, False, False,\n",
      "                   False],\n",
      "       fill_value='?',\n",
      "            dtype=object), 'param_reg_lambda': masked_array(data=[0.1, 0.3, 0.5, 0.7, 0.9, 0.1, 0.3, 0.5, 0.7, 0.9, 0.1,\n",
      "                   0.3, 0.5, 0.7, 0.9, 0.1, 0.3, 0.5, 0.7, 0.9, 0.1, 0.3,\n",
      "                   0.5, 0.7, 0.9],\n",
      "             mask=[False, False, False, False, False, False, False, False,\n",
      "                   False, False, False, False, False, False, False, False,\n",
      "                   False, False, False, False, False, False, False, False,\n",
      "                   False],\n",
      "       fill_value='?',\n",
      "            dtype=object), 'params': [{'reg_alpha': 0.1, 'reg_lambda': 0.1}, {'reg_alpha': 0.1, 'reg_lambda': 0.3}, {'reg_alpha': 0.1, 'reg_lambda': 0.5}, {'reg_alpha': 0.1, 'reg_lambda': 0.7}, {'reg_alpha': 0.1, 'reg_lambda': 0.9}, {'reg_alpha': 0.3, 'reg_lambda': 0.1}, {'reg_alpha': 0.3, 'reg_lambda': 0.3}, {'reg_alpha': 0.3, 'reg_lambda': 0.5}, {'reg_alpha': 0.3, 'reg_lambda': 0.7}, {'reg_alpha': 0.3, 'reg_lambda': 0.9}, {'reg_alpha': 0.5, 'reg_lambda': 0.1}, {'reg_alpha': 0.5, 'reg_lambda': 0.3}, {'reg_alpha': 0.5, 'reg_lambda': 0.5}, {'reg_alpha': 0.5, 'reg_lambda': 0.7}, {'reg_alpha': 0.5, 'reg_lambda': 0.9}, {'reg_alpha': 0.7, 'reg_lambda': 0.1}, {'reg_alpha': 0.7, 'reg_lambda': 0.3}, {'reg_alpha': 0.7, 'reg_lambda': 0.5}, {'reg_alpha': 0.7, 'reg_lambda': 0.7}, {'reg_alpha': 0.7, 'reg_lambda': 0.9}, {'reg_alpha': 0.9, 'reg_lambda': 0.1}, {'reg_alpha': 0.9, 'reg_lambda': 0.3}, {'reg_alpha': 0.9, 'reg_lambda': 0.5}, {'reg_alpha': 0.9, 'reg_lambda': 0.7}, {'reg_alpha': 0.9, 'reg_lambda': 0.9}], 'split0_test_score': array([0.21052632, 0.26315789, 0.23684211, 0.13157895, 0.15789474,\n",
      "       0.21052632, 0.23684211, 0.26315789, 0.23684211, 0.13157895,\n",
      "       0.23684211, 0.23684211, 0.23684211, 0.23684211, 0.23684211,\n",
      "       0.26315789, 0.26315789, 0.21052632, 0.13157895, 0.18421053,\n",
      "       0.13157895, 0.18421053, 0.15789474, 0.15789474, 0.23684211]), 'split1_test_score': array([0.05263158, 0.02631579, 0.02631579, 0.05263158, 0.02631579,\n",
      "       0.05263158, 0.05263158, 0.05263158, 0.        , 0.07894737,\n",
      "       0.05263158, 0.05263158, 0.05263158, 0.05263158, 0.02631579,\n",
      "       0.02631579, 0.07894737, 0.05263158, 0.05263158, 0.05263158,\n",
      "       0.05263158, 0.07894737, 0.02631579, 0.07894737, 0.02631579]), 'split2_test_score': array([0.02631579, 0.02631579, 0.05263158, 0.07894737, 0.07894737,\n",
      "       0.02631579, 0.05263158, 0.07894737, 0.05263158, 0.05263158,\n",
      "       0.05263158, 0.07894737, 0.05263158, 0.05263158, 0.05263158,\n",
      "       0.07894737, 0.07894737, 0.05263158, 0.07894737, 0.07894737,\n",
      "       0.07894737, 0.02631579, 0.05263158, 0.05263158, 0.05263158]), 'split3_test_score': array([0.02564103, 0.02564103, 0.02564103, 0.02564103, 0.02564103,\n",
      "       0.02564103, 0.02564103, 0.02564103, 0.02564103, 0.02564103,\n",
      "       0.        , 0.        , 0.02564103, 0.02564103, 0.02564103,\n",
      "       0.02564103, 0.02564103, 0.02564103, 0.02564103, 0.02564103,\n",
      "       0.02564103, 0.02564103, 0.02564103, 0.02564103, 0.        ]), 'split4_test_score': array([0.05128205, 0.07692308, 0.07692308, 0.1025641 , 0.07692308,\n",
      "       0.07692308, 0.07692308, 0.1025641 , 0.07692308, 0.1025641 ,\n",
      "       0.07692308, 0.05128205, 0.1025641 , 0.07692308, 0.1025641 ,\n",
      "       0.05128205, 0.07692308, 0.05128205, 0.12820513, 0.1025641 ,\n",
      "       0.07692308, 0.07692308, 0.07692308, 0.1025641 , 0.07692308]), 'mean_test_score': array([0.07327935, 0.08367072, 0.08367072, 0.0782726 , 0.0731444 ,\n",
      "       0.07840756, 0.08893387, 0.10458839, 0.07840756, 0.0782726 ,\n",
      "       0.08380567, 0.08394062, 0.09406208, 0.08893387, 0.08879892,\n",
      "       0.08906883, 0.10472335, 0.07854251, 0.08340081, 0.08879892,\n",
      "       0.0731444 , 0.07840756, 0.06788124, 0.08353576, 0.07854251]), 'std_test_score': array([0.06960162, 0.09187796, 0.07890179, 0.03703956, 0.04833231,\n",
      "       0.06873111, 0.07571367, 0.08335232, 0.08330686, 0.03703956,\n",
      "       0.08054137, 0.08061844, 0.07559475, 0.07571367, 0.07912952,\n",
      "       0.08921695, 0.08180119, 0.06678949, 0.04154836, 0.05419761,\n",
      "       0.03504253, 0.05778343, 0.04884395, 0.04520898, 0.08322177]), 'rank_test_score': array([22, 11, 11, 20, 23, 17,  5,  2, 17, 20, 10,  9,  3,  5,  7,  4,  1,\n",
      "       15, 14,  7, 23, 17, 25, 13, 15])}\n",
      "Best parameters {'reg_alpha': 0.7, 'reg_lambda': 0.3}\n",
      "Best score 0.10472334682861\n",
      "time: 14min 17s (started: 2023-05-07 10:01:48 -05:00)\n"
     ]
    }
   ],
   "source": [
    "cv_params = {'reg_alpha': [i/10.0 for i in range(1,10,2)], \n",
    "             'reg_lambda': [i/10.0 for i in range(1,10,2)]\n",
    "            }\n",
    "\n",
    "gbm = GridSearchCV(XGBClassifier(\n",
    "                                        objective = objective,\n",
    "                                        seed = seed,\n",
    "                                        n_estimators = n_estimators,\n",
    "                                        max_depth = max_depth,\n",
    "                                        min_child_weight = min_child_weight,\n",
    "                                        learning_rate = learning_rate,\n",
    "                                        gamma = gamma,\n",
    "                                        colsample_bytree = colsample_bytree,\n",
    "                                        subsample = subsample,\n",
    "                                        verbosity = verbosity,\n",
    "                                        eval_metric = eval_metric,\n",
    "                                        random_state=random_state\n",
    "                                    ),\n",
    "                   \n",
    "                    param_grid = cv_params,\n",
    "                    scoring = \"recall\",\n",
    "                    cv = 5,\n",
    "                    verbose = True\n",
    ")\n",
    "\n",
    "gbm.fit(X_train, y_train)\n",
    "print(gbm.cv_results_)\n",
    "print(\"Best parameters %s\" %gbm.best_params_)\n",
    "print(\"Best score %s\" %gbm.best_score_)"
   ]
  },
  {
   "cell_type": "markdown",
   "id": "1bcf1178",
   "metadata": {},
   "source": [
    "### Estable óptimos temporales reg_alpha y reg_lambda"
   ]
  },
  {
   "cell_type": "code",
   "execution_count": 128,
   "id": "fe7fe543",
   "metadata": {},
   "outputs": [
    {
     "name": "stdout",
     "output_type": "stream",
     "text": [
      "time: 0 ns (started: 2023-05-07 10:16:05 -05:00)\n"
     ]
    }
   ],
   "source": [
    "reg_alpha = gbm.best_params_['reg_alpha']\n",
    "reg_lambda = gbm.best_params_['reg_lambda']\n",
    "parameters['reg_alpha'] = reg_alpha\n",
    "parameters['reg_lambda'] = reg_lambda\n",
    "scores.append(gbm.best_score_)"
   ]
  },
  {
   "cell_type": "markdown",
   "id": "aeb1d6ad",
   "metadata": {},
   "source": [
    "### Calibración de reg_alpha y reg_lambda con grilla detallada"
   ]
  },
  {
   "cell_type": "code",
   "execution_count": 129,
   "id": "3e505bd1",
   "metadata": {},
   "outputs": [
    {
     "name": "stdout",
     "output_type": "stream",
     "text": [
      "Fitting 5 folds for each of 25 candidates, totalling 125 fits\n",
      "{'mean_fit_time': array([0.17698455, 0.1640666 , 0.16965747, 0.16174369, 0.16675587,\n",
      "       0.16637559, 0.17608485, 7.06723337, 7.00237188, 7.08061867,\n",
      "       0.17107582, 0.17171769, 7.01727991, 6.79601021, 6.72105947,\n",
      "       0.17492294, 0.16189833, 6.8242342 , 6.94707661, 6.61192465,\n",
      "       0.16069975, 0.16673851, 6.55433788, 6.68756042, 6.55976324]), 'std_fit_time': array([0.00626573, 0.00598484, 0.00954058, 0.01099464, 0.01112119,\n",
      "       0.01261049, 0.0126889 , 0.12114896, 0.18884671, 0.23615853,\n",
      "       0.01435585, 0.01334164, 0.25789316, 0.11804203, 0.11748796,\n",
      "       0.01980062, 0.01046519, 0.2418322 , 0.13219273, 0.11957549,\n",
      "       0.00883563, 0.01006206, 0.23768258, 0.18607793, 0.22081615]), 'mean_score_time': array([0.        , 0.        , 0.        , 0.        , 0.        ,\n",
      "       0.        , 0.        , 0.02020493, 0.02180691, 0.02141638,\n",
      "       0.        , 0.        , 0.02340856, 0.02140493, 0.02232356,\n",
      "       0.        , 0.        , 0.01980653, 0.02070608, 0.01960444,\n",
      "       0.        , 0.        , 0.01793599, 0.01900401, 0.01911254]), 'std_score_time': array([0.        , 0.        , 0.        , 0.        , 0.        ,\n",
      "       0.        , 0.        , 0.00116644, 0.00120726, 0.00371535,\n",
      "       0.        , 0.        , 0.00792289, 0.00195983, 0.00511041,\n",
      "       0.        , 0.        , 0.00231445, 0.00074801, 0.00135666,\n",
      "       0.        , 0.        , 0.0015637 , 0.00141452, 0.00078979]), 'param_reg_alpha': masked_array(data=[-0.30000000000000004, -0.30000000000000004,\n",
      "                   -0.30000000000000004, -0.30000000000000004,\n",
      "                   -0.30000000000000004, 0.19999999999999996,\n",
      "                   0.19999999999999996, 0.19999999999999996,\n",
      "                   0.19999999999999996, 0.19999999999999996, 0.7, 0.7,\n",
      "                   0.7, 0.7, 0.7, 1.2, 1.2, 1.2, 1.2, 1.2, 1.7, 1.7, 1.7,\n",
      "                   1.7, 1.7],\n",
      "             mask=[False, False, False, False, False, False, False, False,\n",
      "                   False, False, False, False, False, False, False, False,\n",
      "                   False, False, False, False, False, False, False, False,\n",
      "                   False],\n",
      "       fill_value='?',\n",
      "            dtype=object), 'param_reg_lambda': masked_array(data=[-0.7, -0.2, 0.3, 0.8, 1.3, -0.7, -0.2, 0.3, 0.8, 1.3,\n",
      "                   -0.7, -0.2, 0.3, 0.8, 1.3, -0.7, -0.2, 0.3, 0.8, 1.3,\n",
      "                   -0.7, -0.2, 0.3, 0.8, 1.3],\n",
      "             mask=[False, False, False, False, False, False, False, False,\n",
      "                   False, False, False, False, False, False, False, False,\n",
      "                   False, False, False, False, False, False, False, False,\n",
      "                   False],\n",
      "       fill_value='?',\n",
      "            dtype=object), 'params': [{'reg_alpha': -0.30000000000000004, 'reg_lambda': -0.7}, {'reg_alpha': -0.30000000000000004, 'reg_lambda': -0.2}, {'reg_alpha': -0.30000000000000004, 'reg_lambda': 0.3}, {'reg_alpha': -0.30000000000000004, 'reg_lambda': 0.8}, {'reg_alpha': -0.30000000000000004, 'reg_lambda': 1.3}, {'reg_alpha': 0.19999999999999996, 'reg_lambda': -0.7}, {'reg_alpha': 0.19999999999999996, 'reg_lambda': -0.2}, {'reg_alpha': 0.19999999999999996, 'reg_lambda': 0.3}, {'reg_alpha': 0.19999999999999996, 'reg_lambda': 0.8}, {'reg_alpha': 0.19999999999999996, 'reg_lambda': 1.3}, {'reg_alpha': 0.7, 'reg_lambda': -0.7}, {'reg_alpha': 0.7, 'reg_lambda': -0.2}, {'reg_alpha': 0.7, 'reg_lambda': 0.3}, {'reg_alpha': 0.7, 'reg_lambda': 0.8}, {'reg_alpha': 0.7, 'reg_lambda': 1.3}, {'reg_alpha': 1.2, 'reg_lambda': -0.7}, {'reg_alpha': 1.2, 'reg_lambda': -0.2}, {'reg_alpha': 1.2, 'reg_lambda': 0.3}, {'reg_alpha': 1.2, 'reg_lambda': 0.8}, {'reg_alpha': 1.2, 'reg_lambda': 1.3}, {'reg_alpha': 1.7, 'reg_lambda': -0.7}, {'reg_alpha': 1.7, 'reg_lambda': -0.2}, {'reg_alpha': 1.7, 'reg_lambda': 0.3}, {'reg_alpha': 1.7, 'reg_lambda': 0.8}, {'reg_alpha': 1.7, 'reg_lambda': 1.3}], 'split0_test_score': array([       nan,        nan,        nan,        nan,        nan,\n",
      "              nan,        nan, 0.21052632, 0.26315789, 0.23684211,\n",
      "              nan,        nan, 0.26315789, 0.18421053, 0.18421053,\n",
      "              nan,        nan, 0.15789474, 0.15789474, 0.18421053,\n",
      "              nan,        nan, 0.18421053, 0.15789474, 0.13157895]), 'split1_test_score': array([       nan,        nan,        nan,        nan,        nan,\n",
      "              nan,        nan, 0.05263158, 0.02631579, 0.05263158,\n",
      "              nan,        nan, 0.07894737, 0.05263158, 0.02631579,\n",
      "              nan,        nan, 0.02631579, 0.02631579, 0.05263158,\n",
      "              nan,        nan, 0.02631579, 0.02631579, 0.        ]), 'split2_test_score': array([       nan,        nan,        nan,        nan,        nan,\n",
      "              nan,        nan, 0.05263158, 0.07894737, 0.07894737,\n",
      "              nan,        nan, 0.07894737, 0.07894737, 0.05263158,\n",
      "              nan,        nan, 0.07894737, 0.05263158, 0.05263158,\n",
      "              nan,        nan, 0.02631579, 0.02631579, 0.05263158]), 'split3_test_score': array([       nan,        nan,        nan,        nan,        nan,\n",
      "              nan,        nan, 0.02564103, 0.02564103, 0.02564103,\n",
      "              nan,        nan, 0.02564103, 0.02564103, 0.02564103,\n",
      "              nan,        nan, 0.02564103, 0.        , 0.02564103,\n",
      "              nan,        nan, 0.02564103, 0.02564103, 0.02564103]), 'split4_test_score': array([       nan,        nan,        nan,        nan,        nan,\n",
      "              nan,        nan, 0.1025641 , 0.1025641 , 0.07692308,\n",
      "              nan,        nan, 0.07692308, 0.05128205, 0.1025641 ,\n",
      "              nan,        nan, 0.1025641 , 0.07692308, 0.07692308,\n",
      "              nan,        nan, 0.07692308, 0.07692308, 0.1025641 ]), 'mean_test_score': array([       nan,        nan,        nan,        nan,        nan,\n",
      "              nan,        nan, 0.08879892, 0.09932524, 0.09419703,\n",
      "              nan,        nan, 0.10472335, 0.07854251, 0.0782726 ,\n",
      "              nan,        nan, 0.0782726 , 0.06275304, 0.07840756,\n",
      "              nan,        nan, 0.06788124, 0.06261808, 0.06248313]), 'std_test_score': array([       nan,        nan,        nan,        nan,        nan,\n",
      "              nan,        nan, 0.06574513, 0.08720852, 0.07390016,\n",
      "              nan,        nan, 0.08180119, 0.05545984, 0.05989988,\n",
      "              nan,        nan, 0.04979922, 0.05407549, 0.05533458,\n",
      "              nan,        nan, 0.06140662, 0.05154666, 0.04845462]), 'rank_test_score': array([25, 23, 20, 19, 18, 15, 14,  4,  2,  3, 13, 24,  1,  5,  7, 16, 17,\n",
      "        7, 10,  6, 21, 22,  9, 11, 12])}\n",
      "Best parameters {'reg_alpha': 0.7, 'reg_lambda': 0.3}\n",
      "Best score 0.10472334682861\n",
      "time: 7min 11s (started: 2023-05-07 10:16:05 -05:00)\n"
     ]
    }
   ],
   "source": [
    "cv_params = {'reg_lambda': [reg_lambda-1, reg_lambda-0.5, reg_lambda, reg_lambda+0.5, reg_lambda+1], \n",
    "             'reg_alpha': [reg_alpha-1, reg_alpha-0.5, reg_alpha, reg_alpha+0.5, reg_alpha+1]\n",
    "            }\n",
    "\n",
    "gbm = GridSearchCV(XGBClassifier(\n",
    "                                        objective = objective,\n",
    "                                        seed = seed,\n",
    "                                        n_estimators = n_estimators,\n",
    "                                        max_depth = max_depth,\n",
    "                                        min_child_weight = min_child_weight,\n",
    "                                        learning_rate = learning_rate,\n",
    "                                        gamma = gamma,\n",
    "                                        colsample_bytree = colsample_bytree,\n",
    "                                        subsample = subsample,\n",
    "                                        verbosity = verbosity,\n",
    "                                        eval_metric = eval_metric,\n",
    "                                        random_state=random_state\n",
    "                                    ),\n",
    "                   \n",
    "                    param_grid = cv_params,\n",
    "                    scoring = \"recall\",\n",
    "                    cv = 5,\n",
    "                    verbose = True\n",
    ")\n",
    "\n",
    "gbm.fit(X_train, y_train)\n",
    "print(gbm.cv_results_)\n",
    "print(\"Best parameters %s\" %gbm.best_params_)\n",
    "print(\"Best score %s\" %gbm.best_score_)"
   ]
  },
  {
   "cell_type": "markdown",
   "id": "a6f3f4ac",
   "metadata": {},
   "source": [
    "### Estable óptimos definitivosreg_alpha y reg_lambda"
   ]
  },
  {
   "cell_type": "code",
   "execution_count": 130,
   "id": "13766ef9",
   "metadata": {},
   "outputs": [
    {
     "name": "stdout",
     "output_type": "stream",
     "text": [
      "time: 0 ns (started: 2023-05-07 10:23:17 -05:00)\n"
     ]
    }
   ],
   "source": [
    "reg_alpha = gbm.best_params_['reg_alpha']\n",
    "reg_lambda = gbm.best_params_['reg_lambda']\n",
    "parameters['reg_alpha'] = reg_alpha\n",
    "parameters['reg_lambda'] = reg_lambda\n",
    "scores.append(gbm.best_score_)"
   ]
  },
  {
   "cell_type": "markdown",
   "id": "41cfa5a4",
   "metadata": {},
   "source": [
    "## Revisión de Parámetros y Primera Predicción"
   ]
  },
  {
   "cell_type": "code",
   "execution_count": 131,
   "id": "6cf643b7",
   "metadata": {},
   "outputs": [
    {
     "name": "stdout",
     "output_type": "stream",
     "text": [
      "time: 0 ns (started: 2023-05-07 10:23:17 -05:00)\n"
     ]
    }
   ],
   "source": [
    "# Funcion para mostrar los resultados\n",
    "def mostrar_resultados(y_test, y_pred):\n",
    "    conf_matrix = confusion_matrix(y_test, y_pred)\n",
    "    plt.figure(figsize=(6, 6))\n",
    "    ConfusionMatrixDisplay(conf_matrix).plot()\n",
    "    plt.title(\"Confusion matrix\")\n",
    "    plt.ylabel('True class')\n",
    "    plt.xlabel('Predicted class')\n",
    "    plt.show()\n",
    "    print (classification_report(y_test, y_pred))"
   ]
  },
  {
   "cell_type": "code",
   "execution_count": 132,
   "id": "92344d60",
   "metadata": {},
   "outputs": [
    {
     "name": "stdout",
     "output_type": "stream",
     "text": [
      "{'max_depth': 8, 'min_child_weight': 6, 'gamma': 0.7, 'subsample': 1.0, 'colsample_bytree': 0.65, 'reg_alpha': 0.7, 'reg_lambda': 0.3, 'learning_rate': None, 'n_estimators': 100}\n",
      "[0.10458839406207827, 0.11524966261808367, 0.08879892037786774, 0.08879892037786774, 0.09932523616734143, 0.1095816464237517, 0.10472334682861, 0.10472334682861]\n",
      "time: 0 ns (started: 2023-05-07 10:23:17 -05:00)\n"
     ]
    }
   ],
   "source": [
    "print(parameters)\n",
    "print(scores)"
   ]
  },
  {
   "cell_type": "code",
   "execution_count": 133,
   "id": "025b2f8a",
   "metadata": {},
   "outputs": [
    {
     "name": "stdout",
     "output_type": "stream",
     "text": [
      "Recall en el conjunto de prueba: 0.05319148936170213\n"
     ]
    },
    {
     "data": {
      "text/plain": [
       "<Figure size 432x432 with 0 Axes>"
      ]
     },
     "metadata": {},
     "output_type": "display_data"
    },
    {
     "data": {
      "image/png": "[encoded data removed]",
      "text/plain": [
       "<Figure size 432x288 with 2 Axes>"
      ]
     },
     "metadata": {
      "needs_background": "light"
     },
     "output_type": "display_data"
    },
    {
     "name": "stdout",
     "output_type": "stream",
     "text": [
      "              precision    recall  f1-score   support\n",
      "\n",
      "           0       0.99      1.00      1.00      9806\n",
      "           1       0.56      0.05      0.10        94\n",
      "\n",
      "    accuracy                           0.99      9900\n",
      "   macro avg       0.77      0.53      0.55      9900\n",
      "weighted avg       0.99      0.99      0.99      9900\n",
      "\n",
      "Mejores parámetros del modelo: {'objective': 'binary:logistic', 'use_label_encoder': True, 'base_score': 0.5, 'booster': 'gbtree', 'colsample_bylevel': 1, 'colsample_bynode': 1, 'colsample_bytree': 0.65, 'enable_categorical': False, 'gamma': 0.7, 'gpu_id': -1, 'importance_type': None, 'interaction_constraints': '', 'learning_rate': 0.300000012, 'max_delta_step': 0, 'max_depth': 8, 'min_child_weight': 6, 'missing': nan, 'monotone_constraints': '()', 'n_estimators': 100, 'n_jobs': 12, 'num_parallel_tree': 1, 'predictor': 'auto', 'random_state': 1, 'reg_alpha': 0.7, 'reg_lambda': 0.3, 'scale_pos_weight': 1, 'subsample': 1.0, 'tree_method': 'exact', 'validate_parameters': 1, 'verbosity': None, 'seed': 0, 'silent': False, 'eval_metric': 'logloss'}\n",
      "time: 8.89 s (started: 2023-05-07 10:23:17 -05:00)\n"
     ]
    }
   ],
   "source": [
    "# Importación y definición de modelo XGBRegressor\n",
    "xgbPrimer = XGBClassifier(\n",
    "     objective = objective,\n",
    "     seed = seed,\n",
    "     n_estimators = n_estimators,\n",
    "     max_depth = max_depth,\n",
    "     min_child_weight = min_child_weight,\n",
    "     learning_rate = learning_rate,\n",
    "     gamma = gamma,\n",
    "     subsample = subsample,\n",
    "     colsample_bytree = colsample_bytree,\n",
    "     reg_alpha = reg_alpha,\n",
    "     reg_lambda = reg_lambda,\n",
    "     silent = False,\n",
    "     eval_metric = eval_metric,\n",
    "     random_state=random_state\n",
    "    \n",
    " )\n",
    "\n",
    "# Entrenamiento (fit) y desempeño del modelo XGBClassifier\n",
    "xgbPrimer.fit(X_train, y_train)\n",
    "y_pred_primer = xgbPrimer.predict(X_test)\n",
    "\n",
    "\n",
    "#Imprimir Resultados\n",
    "test_score = recall_score(y_test, y_pred_primer)\n",
    "print('Recall en el conjunto de prueba:', test_score)\n",
    "mostrar_resultados(y_test, y_pred_primer)\n",
    "\n",
    "# Imprimir los mejores hiperparámetros y los parámetros correspondientes del modelo\n",
    "print('Mejores parámetros del modelo:', xgbPrimer.get_params())"
   ]
  },
  {
   "cell_type": "code",
   "execution_count": 134,
   "id": "3ad9e068",
   "metadata": {},
   "outputs": [
    {
     "data": {
      "text/plain": [
       "array([0, 0, 0, ..., 0, 0, 0], dtype=int64)"
      ]
     },
     "execution_count": 134,
     "metadata": {},
     "output_type": "execute_result"
    },
    {
     "name": "stdout",
     "output_type": "stream",
     "text": [
      "time: 15 ms (started: 2023-05-07 10:23:26 -05:00)\n"
     ]
    }
   ],
   "source": [
    "y_pred_primer"
   ]
  },
  {
   "cell_type": "markdown",
   "id": "a2a47366",
   "metadata": {},
   "source": [
    "## Paso 5: Calibración parametros learning_rate y n_estimators"
   ]
  },
  {
   "cell_type": "code",
   "execution_count": 135,
   "id": "ffe8a1f3",
   "metadata": {},
   "outputs": [
    {
     "name": "stdout",
     "output_type": "stream",
     "text": [
      "Fitting 5 folds for each of 12 candidates, totalling 60 fits\n",
      "{'mean_fit_time': array([ 1.90978603,  4.0589602 ,  9.03419976,  3.18483281,  6.60975971,\n",
      "       13.08311248,  3.35999818,  6.68269305, 12.92801018,  3.38529286,\n",
      "        6.83058887, 13.82188678]), 'std_fit_time': array([0.08829648, 0.26771144, 0.26549721, 0.3660763 , 0.2692529 ,\n",
      "       0.195725  , 0.08268656, 0.2040469 , 0.13542647, 0.13007932,\n",
      "       0.10453662, 0.43702685]), 'mean_score_time': array([0.01740565, 0.01840591, 0.01970568, 0.01860414, 0.15880418,\n",
      "       0.02100458, 0.01960831, 0.02060471, 0.02060776, 0.01920452,\n",
      "       0.01870537, 0.0209034 ]), 'std_score_time': array([0.00120537, 0.00152945, 0.0021817 , 0.00102043, 0.28008717,\n",
      "       0.00089447, 0.00195907, 0.00135658, 0.00102127, 0.00204024,\n",
      "       0.00132856, 0.00224801]), 'param_learning_rate': masked_array(data=[0.01, 0.01, 0.01, 0.1, 0.1, 0.1, 0.2, 0.2, 0.2, 0.3,\n",
      "                   0.3, 0.3],\n",
      "             mask=[False, False, False, False, False, False, False, False,\n",
      "                   False, False, False, False],\n",
      "       fill_value='?',\n",
      "            dtype=object), 'param_n_estimators': masked_array(data=[50, 100, 200, 50, 100, 200, 50, 100, 200, 50, 100, 200],\n",
      "             mask=[False, False, False, False, False, False, False, False,\n",
      "                   False, False, False, False],\n",
      "       fill_value='?',\n",
      "            dtype=object), 'params': [{'learning_rate': 0.01, 'n_estimators': 50}, {'learning_rate': 0.01, 'n_estimators': 100}, {'learning_rate': 0.01, 'n_estimators': 200}, {'learning_rate': 0.1, 'n_estimators': 50}, {'learning_rate': 0.1, 'n_estimators': 100}, {'learning_rate': 0.1, 'n_estimators': 200}, {'learning_rate': 0.2, 'n_estimators': 50}, {'learning_rate': 0.2, 'n_estimators': 100}, {'learning_rate': 0.2, 'n_estimators': 200}, {'learning_rate': 0.3, 'n_estimators': 50}, {'learning_rate': 0.3, 'n_estimators': 100}, {'learning_rate': 0.3, 'n_estimators': 200}], 'split0_test_score': array([0.        , 0.        , 0.        , 0.        , 0.15789474,\n",
      "       0.10526316, 0.07894737, 0.13157895, 0.21052632, 0.10526316,\n",
      "       0.21052632, 0.28947368]), 'split1_test_score': array([0.        , 0.        , 0.        , 0.        , 0.        ,\n",
      "       0.        , 0.        , 0.        , 0.        , 0.07894737,\n",
      "       0.10526316, 0.05263158]), 'split2_test_score': array([0.        , 0.        , 0.        , 0.        , 0.05263158,\n",
      "       0.05263158, 0.05263158, 0.07894737, 0.07894737, 0.05263158,\n",
      "       0.05263158, 0.07894737]), 'split3_test_score': array([0.        , 0.        , 0.        , 0.        , 0.        ,\n",
      "       0.02564103, 0.        , 0.02564103, 0.02564103, 0.02564103,\n",
      "       0.02564103, 0.02564103]), 'split4_test_score': array([0.        , 0.        , 0.        , 0.05128205, 0.05128205,\n",
      "       0.07692308, 0.05128205, 0.07692308, 0.1025641 , 0.05128205,\n",
      "       0.15384615, 0.15384615]), 'mean_test_score': array([0.        , 0.        , 0.        , 0.01025641, 0.05236167,\n",
      "       0.05209177, 0.0365722 , 0.06261808, 0.08353576, 0.06275304,\n",
      "       0.10958165, 0.12010796]), 'std_test_score': array([0.        , 0.        , 0.        , 0.02051282, 0.05765753,\n",
      "       0.03703316, 0.03144834, 0.04585893, 0.0732663 , 0.02713188,\n",
      "       0.06701815, 0.09486229]), 'rank_test_score': array([10, 10, 10,  9,  6,  7,  8,  5,  3,  4,  2,  1])}\n",
      "Best parameters {'learning_rate': 0.3, 'n_estimators': 200}\n",
      "Best score 0.12010796221322537\n",
      "time: 7min 25s (started: 2023-05-07 10:23:26 -05:00)\n"
     ]
    }
   ],
   "source": [
    "cv_params = {'learning_rate': [0.01, 0.1, 0.2, 0.3],\n",
    "             'n_estimators': [50, 100, 200]\n",
    "}\n",
    "\n",
    "gbm = GridSearchCV(XGBClassifier(\n",
    "                                        objective = objective,\n",
    "                                        seed = seed,\n",
    "                                        n_estimators = n_estimators,\n",
    "                                        max_depth = max_depth,\n",
    "                                        min_child_weight = min_child_weight,\n",
    "                                        learning_rate = learning_rate,\n",
    "                                        gamma = gamma,\n",
    "                                        colsample_bytree = colsample_bytree,\n",
    "                                        subsample = subsample,\n",
    "                                        verbosity = verbosity,\n",
    "                                        eval_metric = eval_metric,\n",
    "                                        random_state=random_state\n",
    "                                    ),\n",
    "                   \n",
    "                    param_grid = cv_params,\n",
    "                    scoring = \"recall\",\n",
    "                    cv = 5,\n",
    "                    verbose = True\n",
    ")\n",
    "\n",
    "gbm.fit(X_train, y_train)\n",
    "print(gbm.cv_results_)\n",
    "print(\"Best parameters %s\" %gbm.best_params_)\n",
    "print(\"Best score %s\" %gbm.best_score_)"
   ]
  },
  {
   "cell_type": "markdown",
   "id": "95514ecf",
   "metadata": {},
   "source": [
    "### Establece óptimos temporales para learning_rate y n_estimators"
   ]
  },
  {
   "cell_type": "code",
   "execution_count": 136,
   "id": "b09cc8e0",
   "metadata": {},
   "outputs": [
    {
     "name": "stdout",
     "output_type": "stream",
     "text": [
      "time: 0 ns (started: 2023-05-07 10:30:51 -05:00)\n"
     ]
    }
   ],
   "source": [
    "learning_rate = gbm.best_params_['learning_rate']\n",
    "n_estimators = gbm.best_params_['n_estimators']\n",
    "parameters['learning_rate'] = learning_rate\n",
    "parameters['n_estimators'] = n_estimators\n",
    "scores.append(gbm.best_score_)"
   ]
  },
  {
   "cell_type": "code",
   "execution_count": 137,
   "id": "2c1360fd",
   "metadata": {},
   "outputs": [
    {
     "name": "stdout",
     "output_type": "stream",
     "text": [
      "time: 0 ns (started: 2023-05-07 10:30:51 -05:00)\n"
     ]
    }
   ],
   "source": [
    "### Calibración de learning_rate y n_estimators"
   ]
  },
  {
   "cell_type": "code",
   "execution_count": 138,
   "id": "d3d1eb47",
   "metadata": {},
   "outputs": [
    {
     "name": "stdout",
     "output_type": "stream",
     "text": [
      "Fitting 5 folds for each of 15 candidates, totalling 75 fits\n",
      "{'mean_fit_time': array([ 0.16574793, 13.04423318,  0.16675611,  0.17278905, 13.38704362,\n",
      "        0.16750121,  0.17790017, 13.6811223 ,  0.16988249,  0.16599474,\n",
      "       13.34376025,  0.16466832,  0.1766151 , 11.82491274,  0.16775112]), 'std_fit_time': array([0.01372508, 0.19557302, 0.00763948, 0.00524862, 0.17728572,\n",
      "       0.00839686, 0.008913  , 0.3788687 , 0.00558047, 0.01100343,\n",
      "       0.44603592, 0.00601544, 0.014462  , 0.43470809, 0.01180781]), 'mean_score_time': array([0.        , 0.02351823, 0.        , 0.        , 0.0227097 ,\n",
      "       0.        , 0.        , 0.02100468, 0.        , 0.        ,\n",
      "       0.02116499, 0.        , 0.        , 0.02280622, 0.        ]), 'std_score_time': array([0.        , 0.00364982, 0.        , 0.        , 0.0007453 ,\n",
      "       0.        , 0.        , 0.00063249, 0.        , 0.        ,\n",
      "       0.00158795, 0.        , 0.        , 0.01038939, 0.        ]), 'param_learning_rate': masked_array(data=[0.06, 0.06, 0.06, 0.15, 0.15, 0.15, 0.3, 0.3, 0.3, 0.6,\n",
      "                   0.6, 0.6, 1.5, 1.5, 1.5],\n",
      "             mask=[False, False, False, False, False, False, False, False,\n",
      "                   False, False, False, False, False, False, False],\n",
      "       fill_value='?',\n",
      "            dtype=object), 'param_n_estimators': masked_array(data=[150.0, 200, 250.0, 150.0, 200, 250.0, 150.0, 200,\n",
      "                   250.0, 150.0, 200, 250.0, 150.0, 200, 250.0],\n",
      "             mask=[False, False, False, False, False, False, False, False,\n",
      "                   False, False, False, False, False, False, False],\n",
      "       fill_value='?',\n",
      "            dtype=object), 'params': [{'learning_rate': 0.06, 'n_estimators': 150.0}, {'learning_rate': 0.06, 'n_estimators': 200}, {'learning_rate': 0.06, 'n_estimators': 250.0}, {'learning_rate': 0.15, 'n_estimators': 150.0}, {'learning_rate': 0.15, 'n_estimators': 200}, {'learning_rate': 0.15, 'n_estimators': 250.0}, {'learning_rate': 0.3, 'n_estimators': 150.0}, {'learning_rate': 0.3, 'n_estimators': 200}, {'learning_rate': 0.3, 'n_estimators': 250.0}, {'learning_rate': 0.6, 'n_estimators': 150.0}, {'learning_rate': 0.6, 'n_estimators': 200}, {'learning_rate': 0.6, 'n_estimators': 250.0}, {'learning_rate': 1.5, 'n_estimators': 150.0}, {'learning_rate': 1.5, 'n_estimators': 200}, {'learning_rate': 1.5, 'n_estimators': 250.0}], 'split0_test_score': array([       nan, 0.02631579,        nan,        nan, 0.18421053,\n",
      "              nan,        nan, 0.28947368,        nan,        nan,\n",
      "       0.26315789,        nan,        nan, 0.15789474,        nan]), 'split1_test_score': array([       nan, 0.        ,        nan,        nan, 0.02631579,\n",
      "              nan,        nan, 0.05263158,        nan,        nan,\n",
      "       0.07894737,        nan,        nan, 0.13157895,        nan]), 'split2_test_score': array([       nan, 0.05263158,        nan,        nan, 0.05263158,\n",
      "              nan,        nan, 0.07894737,        nan,        nan,\n",
      "       0.05263158,        nan,        nan, 0.02631579,        nan]), 'split3_test_score': array([       nan, 0.        ,        nan,        nan, 0.02564103,\n",
      "              nan,        nan, 0.02564103,        nan,        nan,\n",
      "       0.02564103,        nan,        nan, 0.02564103,        nan]), 'split4_test_score': array([       nan, 0.05128205,        nan,        nan, 0.1025641 ,\n",
      "              nan,        nan, 0.15384615,        nan,        nan,\n",
      "       0.07692308,        nan,        nan, 0.1025641 ,        nan]), 'mean_test_score': array([       nan, 0.02604588,        nan,        nan, 0.0782726 ,\n",
      "              nan,        nan, 0.12010796,        nan,        nan,\n",
      "       0.09946019,        nan,        nan, 0.08879892,        nan]), 'std_test_score': array([       nan, 0.0232401 ,        nan,        nan, 0.05989988,\n",
      "              nan,        nan, 0.09486229,        nan,        nan,\n",
      "       0.08410449,        nan,        nan, 0.05419761,        nan]), 'rank_test_score': array([ 6,  5,  7,  8,  4,  9, 10,  1, 11, 12,  2, 13, 14,  3, 15])}\n",
      "Best parameters {'learning_rate': 0.3, 'n_estimators': 200}\n",
      "Best score 0.12010796221322537\n",
      "time: 5min 53s (started: 2023-05-07 10:30:51 -05:00)\n"
     ]
    }
   ],
   "source": [
    "cv_params = {'learning_rate': [learning_rate*0.2, learning_rate*0.5, learning_rate, learning_rate*2, learning_rate*5],\n",
    "             'n_estimators': [(n_estimators*3/4), n_estimators, n_estimators*5/4]\n",
    "             \n",
    "            }           \n",
    "gbm = GridSearchCV(XGBClassifier(\n",
    "                                        objective = objective,\n",
    "                                        seed = seed,\n",
    "                                        n_estimators = n_estimators,\n",
    "                                        max_depth = max_depth,\n",
    "                                        min_child_weight = min_child_weight,\n",
    "                                        learning_rate = learning_rate,\n",
    "                                        gamma = gamma,\n",
    "                                        colsample_bytree = colsample_bytree,\n",
    "                                        subsample = subsample,\n",
    "                                        verbosity = verbosity,\n",
    "                                        eval_metric = eval_metric,\n",
    "                                        random_state=random_state\n",
    "                                    ),\n",
    "                   \n",
    "                    param_grid = cv_params,\n",
    "                    scoring = \"recall\",\n",
    "                    cv = 5,\n",
    "                    verbose = True\n",
    ")\n",
    "\n",
    "gbm.fit(X_train, y_train)\n",
    "print(gbm.cv_results_)\n",
    "print(\"Best parameters %s\" %gbm.best_params_)\n",
    "print(\"Best score %s\" %gbm.best_score_)"
   ]
  },
  {
   "cell_type": "markdown",
   "id": "0fb18073",
   "metadata": {},
   "source": [
    "### Establece óptimos definitivos para learning_rate y n_estimators"
   ]
  },
  {
   "cell_type": "code",
   "execution_count": 139,
   "id": "e4834b9e",
   "metadata": {},
   "outputs": [
    {
     "name": "stdout",
     "output_type": "stream",
     "text": [
      "time: 0 ns (started: 2023-05-07 10:36:45 -05:00)\n"
     ]
    }
   ],
   "source": [
    "learning_rate = gbm.best_params_['learning_rate']\n",
    "n_estimators = gbm.best_params_['n_estimators']\n",
    "parameters['learning_rate'] = learning_rate\n",
    "parameters['n_estimators'] = n_estimators\n",
    "scores.append(gbm.best_score_)"
   ]
  },
  {
   "cell_type": "code",
   "execution_count": 140,
   "id": "f6ef1479",
   "metadata": {},
   "outputs": [
    {
     "name": "stdout",
     "output_type": "stream",
     "text": [
      "{'max_depth': 8, 'min_child_weight': 6, 'gamma': 0.7, 'subsample': 1.0, 'colsample_bytree': 0.65, 'reg_alpha': 0.7, 'reg_lambda': 0.3, 'learning_rate': 0.3, 'n_estimators': 200}\n",
      "[0.10458839406207827, 0.11524966261808367, 0.08879892037786774, 0.08879892037786774, 0.09932523616734143, 0.1095816464237517, 0.10472334682861, 0.10472334682861, 0.12010796221322537, 0.12010796221322537]\n",
      "time: 0 ns (started: 2023-05-07 10:36:45 -05:00)\n"
     ]
    }
   ],
   "source": [
    "print(parameters)\n",
    "print(scores)"
   ]
  },
  {
   "cell_type": "code",
   "execution_count": 141,
   "id": "640e84c0",
   "metadata": {},
   "outputs": [
    {
     "name": "stdout",
     "output_type": "stream",
     "text": [
      "Recall en el conjunto de prueba: 0.05319148936170213\n"
     ]
    },
    {
     "data": {
      "text/plain": [
       "<Figure size 432x432 with 0 Axes>"
      ]
     },
     "metadata": {},
     "output_type": "display_data"
    },
    {
     "data": {
      "image/png": "[encoded data removed]",
      "text/plain": [
       "<Figure size 432x288 with 2 Axes>"
      ]
     },
     "metadata": {
      "needs_background": "light"
     },
     "output_type": "display_data"
    },
    {
     "name": "stdout",
     "output_type": "stream",
     "text": [
      "              precision    recall  f1-score   support\n",
      "\n",
      "           0       0.99      1.00      1.00      9806\n",
      "           1       0.56      0.05      0.10        94\n",
      "\n",
      "    accuracy                           0.99      9900\n",
      "   macro avg       0.77      0.53      0.55      9900\n",
      "weighted avg       0.99      0.99      0.99      9900\n",
      "\n",
      "Mejores parámetros del modelo: {'objective': 'binary:logistic', 'use_label_encoder': True, 'base_score': 0.5, 'booster': 'gbtree', 'colsample_bylevel': 1, 'colsample_bynode': 1, 'colsample_bytree': 0.65, 'enable_categorical': False, 'gamma': 0.7, 'gpu_id': -1, 'importance_type': None, 'interaction_constraints': '', 'learning_rate': 0.3, 'max_delta_step': 0, 'max_depth': 8, 'min_child_weight': 6, 'missing': nan, 'monotone_constraints': '()', 'n_estimators': 200, 'n_jobs': 12, 'num_parallel_tree': 1, 'predictor': 'auto', 'random_state': 1, 'reg_alpha': 0.7, 'reg_lambda': 0.3, 'scale_pos_weight': 1, 'subsample': 1.0, 'tree_method': 'exact', 'validate_parameters': 1, 'verbosity': None, 'seed': 0, 'silent': False, 'eval_metric': 'logloss'}\n",
      "time: 16.7 s (started: 2023-05-07 10:36:45 -05:00)\n"
     ]
    }
   ],
   "source": [
    "# Importación y definición de modelo XGBRegressor\n",
    "xgbsegundo = XGBClassifier(\n",
    "     objective = objective,\n",
    "     seed = seed,\n",
    "     n_estimators = n_estimators,\n",
    "     max_depth = max_depth,\n",
    "     min_child_weight = min_child_weight,\n",
    "     learning_rate = learning_rate,\n",
    "     gamma = gamma,\n",
    "     subsample = subsample,\n",
    "     colsample_bytree = colsample_bytree,\n",
    "     reg_alpha = reg_alpha,\n",
    "     reg_lambda = reg_lambda,\n",
    "     silent = False,\n",
    "     eval_metric = eval_metric,\n",
    "    random_state=random_state\n",
    " \n",
    " )\n",
    "\n",
    "# Entrenamiento (fit) y desempeño del modelo XGBClassifier\n",
    "xgbsegundo.fit(X_train, y_train)\n",
    "y_pred_segundo = xgbsegundo.predict(X_test)\n",
    "\n",
    "#Imprimir Resultados\n",
    "test_score_segundo = recall_score(y_test, y_pred_segundo)\n",
    "print('Recall en el conjunto de prueba:', test_score_segundo)\n",
    "mostrar_resultados(y_test, y_pred_segundo)\n",
    "\n",
    "# Imprimir los mejores hiperparámetros y los parámetros correspondientes del modelo\n",
    "print('Mejores parámetros del modelo:', xgbsegundo.get_params())"
   ]
  },
  {
   "cell_type": "code",
   "execution_count": null,
   "id": "315a5112",
   "metadata": {},
   "outputs": [],
   "source": []
  },
  {
   "cell_type": "code",
   "execution_count": null,
   "id": "5cec2d5c",
   "metadata": {},
   "outputs": [],
   "source": []
  }
 ],
 "metadata": {
  "kernelspec": {
   "display_name": "Python 3 (ipykernel)",
   "language": "python",
   "name": "python3"
  },
  "language_info": {
   "codemirror_mode": {
    "name": "ipython",
    "version": 3
   },
   "file_extension": ".py",
   "mimetype": "text/x-python",
   "name": "python",
   "nbconvert_exporter": "python",
   "pygments_lexer": "ipython3",
   "version": "3.9.7"
  }
 },
 "nbformat": 4,
 "nbformat_minor": 5
}
